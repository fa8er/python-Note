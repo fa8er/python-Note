{
 "cells": [
  {
   "cell_type": "code",
   "execution_count": 1,
   "metadata": {},
   "outputs": [
    {
     "data": {
      "text/plain": [
       "4560895504"
      ]
     },
     "execution_count": 1,
     "metadata": {},
     "output_type": "execute_result"
    }
   ],
   "source": [
    "class  Person:\n",
    "    age =3 \n",
    "    def __init__(self, name):\n",
    "        self.name=name\n",
    "\n",
    "tom = Person('Tom')\n",
    "id(tom)"
   ]
  },
  {
   "cell_type": "code",
   "execution_count": 3,
   "metadata": {},
   "outputs": [
    {
     "ename": "AttributeError",
     "evalue": "'Person' object has no attribute '__name__'",
     "output_type": "error",
     "traceback": [
      "\u001b[0;31m---------------------------------------------------------------------------\u001b[0m",
      "\u001b[0;31mAttributeError\u001b[0m                            Traceback (most recent call last)",
      "\u001b[0;32m<ipython-input-3-f00dc9f4c0c0>\u001b[0m in \u001b[0;36m<module>\u001b[0;34m\u001b[0m\n\u001b[0;32m----> 1\u001b[0;31m \u001b[0mprint\u001b[0m\u001b[0;34m(\u001b[0m\u001b[0mtom\u001b[0m\u001b[0;34m.\u001b[0m\u001b[0m__name__\u001b[0m\u001b[0;34m)\u001b[0m\u001b[0;34m\u001b[0m\u001b[0;34m\u001b[0m\u001b[0m\n\u001b[0m",
      "\u001b[0;31mAttributeError\u001b[0m: 'Person' object has no attribute '__name__'"
     ]
    }
   ],
   "source": [
    "print(tom.__name__)"
   ]
  },
  {
   "cell_type": "code",
   "execution_count": 4,
   "metadata": {},
   "outputs": [
    {
     "name": "stdout",
     "output_type": "stream",
     "text": [
      "<class '__main__.Person'>\n"
     ]
    }
   ],
   "source": [
    "print(tom.__class__)\n"
   ]
  },
  {
   "cell_type": "code",
   "execution_count": 5,
   "metadata": {},
   "outputs": [
    {
     "name": "stdout",
     "output_type": "stream",
     "text": [
      "{'name': 'Tom'}\n"
     ]
    }
   ],
   "source": [
    "print(tom.__dict__)\n"
   ]
  },
  {
   "cell_type": "code",
   "execution_count": 7,
   "metadata": {},
   "outputs": [
    {
     "name": "stdout",
     "output_type": "stream",
     "text": [
      "3 3\n"
     ]
    }
   ],
   "source": [
    "print(Person.age, tom.age)\n"
   ]
  },
  {
   "cell_type": "code",
   "execution_count": 8,
   "metadata": {},
   "outputs": [
    {
     "name": "stdout",
     "output_type": "stream",
     "text": [
      "Tom\n"
     ]
    }
   ],
   "source": [
    "# def add_name(name,cls):\n",
    "#     cls.NAME =name\n",
    "\n",
    "def add_name(name):\n",
    "    def wrapper(cls):\n",
    "        cls.NAME= name\n",
    "        return cls\n",
    "    return wrapper\n",
    "\n",
    "@add_name('Tom')\n",
    "class Person:\n",
    "    AGE =3\n",
    "    \n",
    "print(Person.NAME)"
   ]
  },
  {
   "cell_type": "code",
   "execution_count": 18,
   "metadata": {},
   "outputs": [
    {
     "name": "stdout",
     "output_type": "stream",
     "text": [
      "normal\n",
      "normal\n",
      "None\n",
      "normalddd1\n",
      "None\n",
      "{'__module__': '__main__', 'normal_method': <classmethod object at 0x1112982d0>, 'normal_method2': <function Person.normal_method2 at 0x111276680>, '__dict__': <attribute '__dict__' of 'Person' objects>, '__weakref__': <attribute '__weakref__' of 'Person' objects>, '__doc__': None}\n"
     ]
    }
   ],
   "source": [
    "class Person:\n",
    "    @classmethod\n",
    "    def normal_method(cls):\n",
    "        print('normal')\n",
    "    \n",
    "        \n",
    "    def normal_method2(self):\n",
    "        print('normalddd1')\n",
    "Person.normal_method()\n",
    "tom=Person()\n",
    "print(tom.normal_method())\n",
    "print(tom.normal_method2())\n",
    "print(Person.__dict__)"
   ]
  },
  {
   "cell_type": "code",
   "execution_count": 23,
   "metadata": {},
   "outputs": [
    {
     "name": "stdout",
     "output_type": "stream",
     "text": [
      "<__main__.Point object at 0x111298f50>\n",
      "<__main__.Point object at 0x111298250>\n",
      "{'x': 4, 'y': 5}\n",
      "{'x': 4, 'y': 16, 'z': 10}\n",
      "Point(4, 16)\n"
     ]
    }
   ],
   "source": [
    "class Point:\n",
    "    def __init__(self,x,y):\n",
    "        self.x = x \n",
    "        self.y =y \n",
    "    def __str__(self):\n",
    "        return \"Point({}, {})\".format(self.x, self.y)\n",
    "    \n",
    "    def show(self):\n",
    "        print(self)\n",
    "    \n",
    "p1 = Point(4,5)\n",
    "p2 = Point(10,10)\n",
    "print(repr(p1), repr(p2), sep='\\n')\n",
    "print(p1.__dict__)\n",
    "setattr(p1, 'y', 16)\n",
    "setattr(p1, 'z', 10)\n",
    "print(getattr(p1, '__dict__'))\n",
    "\n",
    "if hasattr(p1, 'show'):\n",
    "    getattr(p1,'show')()\n",
    "    \n",
    "    "
   ]
  },
  {
   "cell_type": "code",
   "execution_count": null,
   "metadata": {},
   "outputs": [],
   "source": []
  }
 ],
 "metadata": {
  "kernelspec": {
   "display_name": "Python 3",
   "language": "python",
   "name": "python3"
  },
  "language_info": {
   "codemirror_mode": {
    "name": "ipython",
    "version": 3
   },
   "file_extension": ".py",
   "mimetype": "text/x-python",
   "name": "python",
   "nbconvert_exporter": "python",
   "pygments_lexer": "ipython3",
   "version": "3.7.6"
  }
 },
 "nbformat": 4,
 "nbformat_minor": 4
}
