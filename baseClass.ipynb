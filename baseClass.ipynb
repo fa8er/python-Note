{
 "cells": [
  {
   "cell_type": "markdown",
   "metadata": {},
   "source": [
    "# python 的面向对象"
   ]
  },
  {
   "cell_type": "markdown",
   "metadata": {},
   "source": [
    "oop的特征：\n",
    "    - 封装\n",
    "    - 继承\n",
    "    - 多态"
   ]
  },
  {
   "cell_type": "markdown",
   "metadata": {},
   "source": [
    "创建对象是使用 `类名(__init__函数除第一个参数外的参数列表)`。\n",
    "创建对象的时候，初始化function（构造函数）只要实例化就会执行。self被系统识别为instence。"
   ]
  },
  {
   "cell_type": "markdown",
   "metadata": {},
   "source": [
    "`__init__` 函数并不会创建对象\n",
    "`__init__` 函数只是初始化对象\n",
    "\n",
    "创建类的过程\n",
    "创建对象\n",
    "对象作为self参数传递给__init__函数\n",
    "返回self"
   ]
  },
  {
   "cell_type": "markdown",
   "metadata": {},
   "source": [
    "## 作用域"
   ]
  },
  {
   "cell_type": "code",
   "execution_count": 19,
   "metadata": {},
   "outputs": [],
   "source": [
    "class E:\n",
    "    NAME = 'EE' #类的直接下级作用域教做类变量\n",
    "    \n",
    "    def __init__(self,name):\n",
    "        self.name = name  #关联到实例的变量，叫实例变量"
   ]
  },
  {
   "cell_type": "code",
   "execution_count": 21,
   "metadata": {},
   "outputs": [
    {
     "data": {
      "text/plain": [
       "'sss'"
      ]
     },
     "execution_count": 21,
     "metadata": {},
     "output_type": "execute_result"
    }
   ],
   "source": [
    "e=E('ddddd')\n",
    "e.name\n",
    "e.NAME\n",
    "E.NAME\n",
    "E.attr2 = 'sss'\n",
    "e.attr2"
   ]
  },
  {
   "cell_type": "markdown",
   "metadata": {},
   "source": [
    "    类下面直接定义的变量 叫做类变量,可直接修改类变量。\n",
    "    所有实例共享类变量.\n",
    "\n",
    "    python可以动态的给对象增减属性。每个实例的操作都相当于覆盖类变量。也可直接使用class.var赋值。\n",
    "\n",
    "\n",
    "\n",
    "属性的查找顺序 __dict__ 再找 __class__ .这时候修改类变量就会修改。\n",
    "\n",
    "函数传两个参数，第一个是装饰器的参数，第二个就是传入函数的参数。"
   ]
  },
  {
   "cell_type": "markdown",
   "metadata": {},
   "source": [
    "## 类装饰器\n",
    "类装饰器通常用来给类增加属性。"
   ]
  },
  {
   "cell_type": "code",
   "execution_count": 24,
   "metadata": {},
   "outputs": [],
   "source": [
    "def set_name(cls, name):\n",
    "    cls.NAME = name\n",
    "    return cls\n",
    "\n",
    "class F:\n",
    "    pass\n",
    "F1 = set_name(F,'F')\n",
    "f1 = F1()   "
   ]
  },
  {
   "cell_type": "code",
   "execution_count": 25,
   "metadata": {},
   "outputs": [
    {
     "data": {
      "text/plain": [
       "'F'"
      ]
     },
     "execution_count": 25,
     "metadata": {},
     "output_type": "execute_result"
    }
   ],
   "source": [
    "F1.NAME"
   ]
  },
  {
   "cell_type": "code",
   "execution_count": 26,
   "metadata": {},
   "outputs": [],
   "source": [
    "f1.NAME"
   ]
  },
  {
   "cell_type": "markdown",
   "metadata": {},
   "source": [
    "以上就类似于类装饰器。下面定义一个真实的类装饰器。"
   ]
  },
  {
   "cell_type": "code",
   "execution_count": 27,
   "metadata": {},
   "outputs": [
    {
     "data": {
      "text/plain": [
       "'G'"
      ]
     },
     "execution_count": 27,
     "metadata": {},
     "output_type": "execute_result"
    }
   ],
   "source": [
    "def set_name(name):\n",
    "    def warp(cls):\n",
    "        cls.NAME = name\n",
    "        return cls\n",
    "    return warp\n",
    " \n",
    "@set_name('G')\n",
    "class G:\n",
    "    pass\n",
    "\n",
    "# 这里是动态的增加了一个属性。\n",
    "G =set_name('G')(G)\n",
    "G.NAME "
   ]
  },
  {
   "cell_type": "code",
   "execution_count": 31,
   "metadata": {},
   "outputs": [],
   "source": [
    "def print_name(cls):\n",
    "    def get_name(self):\n",
    "        return  cls.__name__\n",
    "    cls.__get_name__ = get_name\n",
    "    return cls\n",
    "  \n",
    "@print_name\n",
    "class H:\n",
    "    pass\n",
    "\n",
    "# 这里给类增加了一个方法。但平时不用，有更好的方式。"
   ]
  },
  {
   "cell_type": "code",
   "execution_count": 29,
   "metadata": {},
   "outputs": [
    {
     "data": {
      "text/plain": [
       "'H'"
      ]
     },
     "execution_count": 29,
     "metadata": {},
     "output_type": "execute_result"
    }
   ],
   "source": [
    "h = H()\n",
    "h.__get_name__()\n"
   ]
  },
  {
   "cell_type": "markdown",
   "metadata": {},
   "source": [
    "### 类方法/静态方法\n",
    "方法都是类级的，但是有的是实例调用，有的方法使用类来调用。\n",
    "\n",
    "类方法：\n",
    "    \n",
    "    "
   ]
  },
  {
   "cell_type": "code",
   "execution_count": 1,
   "metadata": {},
   "outputs": [
    {
     "name": "stdout",
     "output_type": "stream",
     "text": [
      "instance method\n"
     ]
    }
   ],
   "source": [
    "class I:\n",
    "    def printdd(self):\n",
    "        print('instance method')\n",
    "    \n",
    "    @classmethod   #在类方法上加`@classmethod`。方法就会变成类方法，类方法可以被实例使用，并且被实例使用,传入的第一个参数还是类。\n",
    "    def class_print(cls):\n",
    "        print(id(cls))\n",
    "        print('class method')\n",
    "    @staticmethod   #`@staticmethod`使用这个装饰器，不会自动传递第一个参数，这样的方法叫静态方法.实例不能调用。\n",
    "    def static_print(): \n",
    "        print('static method')\n",
    "    def xxx_print():\n",
    "        print('this is a function')\n",
    "        \n",
    "i = I()\n",
    "i.printdd()"
   ]
  },
  {
   "cell_type": "markdown",
   "metadata": {},
   "source": [
    "I.print() # 这是不被允许的，实例方法只能由实例调用。"
   ]
  },
  {
   "cell_type": "code",
   "execution_count": 33,
   "metadata": {},
   "outputs": [
    {
     "name": "stdout",
     "output_type": "stream",
     "text": [
      "140595979611992\n",
      "class method\n"
     ]
    }
   ],
   "source": [
    "I.class_print()"
   ]
  },
  {
   "cell_type": "code",
   "execution_count": 34,
   "metadata": {},
   "outputs": [
    {
     "name": "stdout",
     "output_type": "stream",
     "text": [
      "140595979611992\n",
      "class method\n"
     ]
    }
   ],
   "source": [
    "i.class_print() # 类方法可以被实例调用。并且被实例使用是，传入的第一个参数还是类。"
   ]
  },
  {
   "cell_type": "code",
   "execution_count": 39,
   "metadata": {},
   "outputs": [
    {
     "name": "stdout",
     "output_type": "stream",
     "text": [
      "static method\n",
      "static method\n"
     ]
    }
   ],
   "source": [
    "I.static_print()\n",
    "i.static_print()"
   ]
  },
  {
   "cell_type": "markdown",
   "metadata": {},
   "source": [
    "静态方法会把传入的第一个参数丢掉，就是只是类的方法。 "
   ]
  },
  {
   "cell_type": "markdown",
   "metadata": {},
   "source": [
    "## 访问控制\n",
    "\n",
    "`self.__var=xxx`在类的外部，无法直接访问。无法直接修改。\n",
    "\n",
    "私有变量。双下划线开始，非双下划线结尾的变量都是私有变量。直接访问报错。\n",
    "\n",
    "私有方法。双下划线开始，非双下划线结尾的函数都是私有方法。统称为私有成员。 私有成员并不私有。\n"
   ]
  },
  {
   "cell_type": "markdown",
   "metadata": {},
   "source": [
    "通过`object._className__attribute`可以由外部访问。 但是不建议使用这样的方法改，私有成员。\n",
    "所以严格将，python没有严格真正的私有。\n",
    "\n",
    "**除非真的有必要，并且清楚明白的指导会有什么后果，否则不要使用这个黑魔法。**90%的人有生之年不会改动私有成员。但是要会定义使用。\n",
    "\n",
    "单下划线开头，非下滑线结尾，是一种惯用法，标记此成员为私有，解释器不做任何处理。"
   ]
  },
  {
   "cell_type": "markdown",
   "metadata": {},
   "source": [
    "`property`使用这个装饰器会把一个仅有self参数的函数，变成一个属性，属性的值，为方法的返回值。\n",
    "\n",
    "   \n",
    "\n",
    "对方法的参数和名字是有要求的。"
   ]
  },
  {
   "cell_type": "code",
   "execution_count": 34,
   "metadata": {},
   "outputs": [
    {
     "name": "stdout",
     "output_type": "stream",
     "text": [
      "ddd\n"
     ]
    },
    {
     "data": {
      "text/plain": [
       "'closed'"
      ]
     },
     "execution_count": 34,
     "metadata": {},
     "output_type": "execute_result"
    }
   ],
   "source": [
    "class Door:\n",
    "    def __init__(self,number=1, status='open'):\n",
    "        self.__number = number\n",
    "        self.__status = status \n",
    "    def open(self):\n",
    "        self.__status = 'opening'\n",
    "    def close(self):\n",
    "        self.__status = 'closed'\n",
    "    \n",
    "    @property\n",
    "    def status(self):\n",
    "        return self.__status\n",
    "    \n",
    "    def __set_number(self, number): # 私有方法\n",
    "        self.__number = number\n",
    "    \n",
    "    @property\n",
    "    def number(self):\n",
    "        return self.__number\n",
    "    \n",
    "    @number.setter # 定义了属性之后可以定义setter装饰器，可以把一个方法转化为对此复制，但此方法有一定要求：\n",
    "    # 1.同名 2. 必须接受两个参数，self和value,value为所赋的值。\n",
    "    def number(self, number):\n",
    "        if isinstance(number, int) and number > 0 and number < 10000:\n",
    "            self.__number =  number \n",
    "\n",
    "    @number.deleter  # 意义在于可以动态的删除方法。\n",
    "    def number(self):\n",
    "        print('cant remove number property')\n",
    "        \n",
    "door =Door(1000, 'closed')\n",
    "door.__status='ddd'   #这个__status 和类例定义的__status不是一个同一个变量。 \n",
    "print(door.__status)\n",
    "door.status\n",
    "\n",
    "\n",
    "\n",
    "# del door.number \n",
    "    #可以动态的删除属性。如果没有定义过这样方法，报错attribute error。\n",
    "# ###看到了23.7.。。。。+++###\n",
    "    # porperty等效方法，lamdba接受不同的参数。\n",
    "#    number = property(lambda self: self.__number, lambda self, __number = value, lambda self: print('cant remove number property'))  "
   ]
  },
  {
   "cell_type": "markdown",
   "metadata": {},
   "source": [
    "## 封装\n",
    "封装思想:只能让你使用规定的方式进行访问: 以上都是封装的内容。propert 和访问控制，类方法。"
   ]
  },
  {
   "cell_type": "markdown",
   "metadata": {},
   "source": [
    "## 继承"
   ]
  },
  {
   "cell_type": "code",
   "execution_count": null,
   "metadata": {},
   "outputs": [],
   "source": [
    "class Base: \n",
    "    def base_print(self):\n",
    "       print('base')\n",
    "class A(Base):   #括号里继承列表。\n",
    "    def a_print(slef):\n",
    "        print('a')"
   ]
  },
  {
   "cell_type": "code",
   "execution_count": 3,
   "metadata": {},
   "outputs": [
    {
     "name": "stdout",
     "output_type": "stream",
     "text": [
      "PUBLIC_CLASS_VAR\n"
     ]
    },
    {
     "data": {
      "text/plain": [
       "{'public_instance_var': 'public_instance_var',\n",
       " '_Base__private_instance_var': 'private__instance_var'}"
      ]
     },
     "execution_count": 3,
     "metadata": {},
     "output_type": "execute_result"
    }
   ],
   "source": [
    "class Base:\n",
    "    PUBLIC_CLASS_VAR = 'PUBLIC_CLASS_VAR'\n",
    "    __PRIVATE_CLASS_VAR = 'PRIVATE_CLASS_VAR'\n",
    "    \n",
    "    def __init__(self):\n",
    "        self.public_instance_var = 'public_instance_var'\n",
    "        self.__private_instance_var = 'private__instance_var'\n",
    "        \n",
    "    @classmethod\n",
    "    def public_class_method(cls):\n",
    "        return 'public_class_method'\n",
    "    @classmethod\n",
    "    def __private_class_method(cls):\n",
    "        return 'private_class_method'  #不能能继承\n",
    "    \n",
    "    @staticmethod\n",
    "    def public_static_method():\n",
    "        return 'public static method'\n",
    "    \n",
    "    @staticmethod\n",
    "    def __pricate_static_method():  # 不能继承\n",
    "        return 'public static method'\n",
    "    \n",
    "    def public_instance_method(self):  \n",
    "        return 'public_instance_method'\n",
    "    def __private_instance_method(self):  # 不能继承\n",
    "        return 'private_instance_method'\n",
    "\n",
    "\n",
    "class Sub(Base):\n",
    "    def print(self):\n",
    "        print(self.PUBLIC_CLASS_VAR)\n",
    "\n",
    "sub = Sub()\n",
    "sub.print()\n",
    "\n",
    "    \n",
    "sub.__dict__\n",
    "# 为什么私有无法继承，因为改名无法执行。"
   ]
  },
  {
   "cell_type": "markdown",
   "metadata": {},
   "source": [
    "    最明显的好处就是可以获取父类的属性和方法。\n",
    "\n",
    "    * 凡是公有的都能继承。\n",
    "    * 凡是私有的都不能继承。\n",
    "    * 原来是什么，继承过来还是什么。\n",
    "\n"
   ]
  },
  {
   "cell_type": "markdown",
   "metadata": {},
   "source": []
  },
  {
   "cell_type": "markdown",
   "metadata": {},
   "source": [
    "## 方法重写"
   ]
  },
  {
   "cell_type": "markdown",
   "metadata": {},
   "source": [
    "重写是多态的表现。"
   ]
  },
  {
   "cell_type": "code",
   "execution_count": 1,
   "metadata": {},
   "outputs": [
    {
     "name": "stdout",
     "output_type": "stream",
     "text": [
      "Base method\n",
      "Base.print\n"
     ]
    }
   ],
   "source": [
    "class Base:\n",
    "    def __init__(self):\n",
    "        self.a = 4\n",
    "        \n",
    "    def print(self):\n",
    "        print('Base.print')\n",
    "    \n",
    "    @classmethod\n",
    "    def cls_print(cls):\n",
    "        print('Base method')\n",
    "        \n",
    "\n",
    "class Sub(Base):\n",
    "    def print(self):\n",
    "        print('Sub.print')\n",
    "        \n",
    "    @classmethod\n",
    "    def cls_print(self):\n",
    "        print('Sub.cls_print')  #重写父类方法\n",
    "    \n",
    "    @classmethod\n",
    "    def cls_foo(cls): # 调用了父class method\n",
    "        super().cls_print() \n",
    "        super(Sub, self).print()\n",
    "        \n",
    "    def foo(self):\n",
    "       # super().print()\n",
    "        super(Sub, self).print() # 1，2等价，推荐使用1.\n",
    "    #    super(Base, self).print() # 错的\n",
    "    \n",
    "s =Sub()\n",
    "s.cls_foo()\n",
    "s.foo()"
   ]
  },
  {
   "cell_type": "markdown",
   "metadata": {},
   "source": [
    "> **子类和父类有同名成员的时候，子类的方法会覆盖父类的成员。就用不了父类的方法。除非使用super方法。**"
   ]
  },
  {
   "cell_type": "markdown",
   "metadata": {},
   "source": [
    "cls 类方法，怎么出来的？\n",
    "\n",
    "super 参数。\n",
    "90%的情况使用无参数的这样的情况就好。\n",
    "\n",
    "\n",
    "想要调用祖父类的方法："
   ]
  },
  {
   "cell_type": "code",
   "execution_count": 2,
   "metadata": {},
   "outputs": [
    {
     "name": "stdout",
     "output_type": "stream",
     "text": [
      "Sub.print\n",
      "Base.print\n",
      "Sub.cls_print\n",
      "Base method\n"
     ]
    }
   ],
   "source": [
    "class SubSub(Sub):\n",
    "    def print(self):\n",
    "        print('SubSub.print')\n",
    "\n",
    "        \n",
    "    @classmethod\n",
    "    def cls_print(cls):\n",
    "        print('SubSub.cls_print')\n",
    "    \n",
    "    def foo(self):\n",
    "        #调用Base的print\n",
    "        super(SubSub, self).print() #找subsub的父类.\n",
    "        super(Sub, self).print()  ##执行祖父类方法  super实际是个代理，代理 TYPE(第一个参数) 的父类方法，并且使用obj（第二个参数）绑定  \\\n",
    "                             # 第一个参数， 指定调用谁的直接父类，第二个参数指定当调用时，传递什么作为方法的第一个参数。\n",
    " \n",
    "     #   super(SubSub, SubSub).cls_print()   \n",
    "    \n",
    "    @classmethod\n",
    "    def cls_foo(cls):\n",
    "        Base.cls_print()\n",
    "        super(Sub, cls).cls_print()\n",
    "\n",
    "        \n",
    "SubSub().foo()\n",
    "SubSub.cls_foo()"
   ]
  },
  {
   "cell_type": "markdown",
   "metadata": {},
   "source": [
    "super不会影响私有属性的保护。"
   ]
  },
  {
   "cell_type": "code",
   "execution_count": null,
   "metadata": {},
   "outputs": [],
   "source": [
    "class Base:\n",
    "    def __init__(self, a, b):\n",
    "        self.__a = a\n",
    "        self.__b = b\n",
    "    \n",
    "    def sum(self):\n",
    "        return self.__a + self.__b \n",
    "\n",
    "class Sub(Base):\n",
    "    def __init__(self, a, b, c)：\n",
    "        self.c = c \n",
    "       # self.__a = a\n",
    "       # self.__b = b #如果父类是私有变量这样的方法是错误的.\n",
    "        super().__init__(a,b)  #这样才对。\n",
    "        \n",
    "sub = Sub（1，2，3）\n",
    "sub.sum()  \n"
   ]
  },
  {
   "cell_type": "markdown",
   "metadata": {},
   "source": [
    "当父类含有一个带参数的初始化方法的时候，子类一定需要一个初始化方法，并且在初始化方法中，调用父类的初始化方法。\n",
    "\n",
    "***\n",
    "\n",
    "## 获取父类的实例变量\n",
    "\n",
    "实例变量就是实例的，这是个伪命题。 super 对象只能获取类的属性"
   ]
  },
  {
   "cell_type": "code",
   "execution_count": 1,
   "metadata": {},
   "outputs": [
    {
     "name": "stdout",
     "output_type": "stream",
     "text": [
      "SUB\n",
      "BASE\n",
      "BASE\n"
     ]
    }
   ],
   "source": [
    "class Base:\n",
    "    NAME = 'BASE'\n",
    " \n",
    "class Sub(Base):\n",
    "    NAME = 'SUB'\n",
    "    \n",
    "    def print(self):\n",
    "        print(self.NAME)\n",
    "        print(super(Sub, Sub).NAME) # 获取父类的类变量\n",
    "        print(Base.NAME) #多继承的情况下是有所不同的。\n",
    "        \n",
    "Sub().print()"
   ]
  },
  {
   "cell_type": "markdown",
   "metadata": {},
   "source": [
    "super在多继承的部分有区别。"
   ]
  },
  {
   "cell_type": "markdown",
   "metadata": {},
   "source": [
    "## 多继承\n",
    "\n",
    "所有类都继承自object类：\n",
    "class(Base, object)\n",
    "\n",
    "类方法查找顺序（MRO）\n",
    "    \n",
    "- 本地优先：自己定义或者重写的方法优先，按照继承列表，从左到右查找。\n",
    "- 单调性：所有子类，也要妈祖查找顺序。 \n",
    "\n",
    "不满足的会定义失败。\n",
    "\n",
    "\n",
    "\n",
    "C3 算法 python3使用c3算法来满足mro。\n",
    " \n",
    "class B(o) -> [B,o]\n",
    "class B(A1,A2,...An) -> [B] + merge(mro(A1),mro(A2),... , mro(An), [A1, A2, ... An, 0])\n",
    "merge的步骤\n",
    "\n",
    "* 遍历列表\n",
    "* 看第一个list的首元素\n",
    "    * 它在其他列表中也是首元素\n",
    "    * 他在其他列表中不存在\n",
    "\n",
    "* 满足以上两种情况，移除， 合并到MRO。\n",
    "* 不满足则异常\n",
    "\n",
    "mro(G)  --> [G] + merge(mro(E), mro(A), [E,A,O])\n",
    "\n",
    "        --> [G] +merge([E,A,0],[A,0],[E,A,O])\n",
    "        --> [G, E] + merge([A, O],[A,0],[E,A,O])\n",
    "        --> [G,E,A] + merge([0],[o],[o])\n",
    "        --> [G,E,A,o]\n",
    "\n",
    "mro(F) -> [F] + merge(merge(mro(a),mro(e),[a,e,o])\n",
    "        -> [F] + merge([a,o],[E,a,o],[a,e,o])\n",
    "\n",
    "        第2和不是首元素，直接抛出异常。\n",
    "\n",
    "当一个类定义的时候，解释器会执行C3算法来确定mro，如果c3算法抛出异常，此类就不能进行定义。\n",
    "多使用来尝试。\n",
    "\n",
    "\n",
    "应该尽量避免多继承。\n",
    "多继承给程序员造成很大压力。 只有执行到的时候，才知道有没有错。 java直接禁止了多继承。\n",
    "多继承的坏处是复杂，好处就是灵活。\n",
    "\n",
    "给类增加方法除了类装饰器。还有mixin方式。"
   ]
  },
  {
   "cell_type": "markdown",
   "metadata": {},
   "source": [
    "### Mixin  \n",
    "    定义一个mixin方法，然后来继承.把别的类的方法mixin，拿过来。\n",
    "    mixin也是一种组合的方法。通过多继承的方法。通常组和优于继承。\n",
    "Minxin类的限制\n",
    " - Minxin类不该有初始化方法\n",
    " - Minxin类通常不能独立工作\n",
    " - Minxin类的祖先也应该是Minxin类\n",
    "\n",
    "通常情况下，Minxin类总在继承列表的第一位。\n",
    "找一个列子。\n",
    "\n",
    "***\n",
    "\n",
    "## 魔术方法/属性\n",
    "\n"
   ]
  },
  {
   "cell_type": "markdown",
   "metadata": {},
   "source": [
    "双下滑线开头和结尾的方法。\n",
    "\n",
    "__dict__\n",
    "#实例的所有属性，都保存在__dict__里面。这个其实是一个字典。动态添加方法就是添加KV到字典。\n",
    "__dir__ 得到所有方法和属性。\n",
    "\n",
    "\n",
    "### 分类\n",
    "1. 创建/销毁 2. 运算符重载 3. hash  4. bool 5. 可视化 6. 反射 7. 上下文管理 8. 大小 9. 描述器 10. 杂项\n"
   ]
  },
  {
   "cell_type": "markdown",
   "metadata": {},
   "source": [
    "#### 运算法重载"
   ]
  },
  {
   "cell_type": "code",
   "execution_count": 6,
   "metadata": {},
   "outputs": [],
   "source": [
    "class Point:\n",
    "    def __init__(slef, x, y):\n",
    "        self.x = x\n",
    "        self.y = y\n",
    "    def __add__(self, other):\n",
    "        return  Point(self.x + other.x, self.y + other.y)\n",
    "    \n",
    "a = Point(0,0)\n",
    "b = Point(3,5)\n",
    "\n",
    "# c = a.add(b)"
   ]
  },
  {
   "cell_type": "markdown",
   "metadata": {},
   "source": [
    " - 以双下滑线命名的方法（__X__）是特殊钩子。Python运算符重载的的实现是提供特殊命名的方法来拦截运算。python语言替每种运算和特殊命名的方法之间，定义了固定不变的映射关系。\n",
    " - 运算非可让类与Python的对象模型相集成。重载类型运算时，以类实现的用户定义对象的行为就会像内置对象一样，因此提供了一致性，以及与预期接口的兼容性。\n",
    " - 运算符覆盖方法没有默认值，而且也不需要。如果类没有定义或者继承运算符重载的方法，就是说相应的运算在类的实例只给你并不支持。例如，如果没有__add__， + 表达式就会发生异常。\n",
    " -  当一个类，自然地匹配的或者需要模拟一个内置类型接口的时候。例如，集合可能模拟序列或者映射接口。如果表达式运算符没有自然地映射对象的时候，我们通常不应该实现 该表达式运算符，而应该使用常规命名的方法。\n",
    " \n",
    "使用 运算符重载后，自动变成符号运算。使用help(int)可以找到很多算数运算符，还有位运算符，还有成员运算符。\n",
    "身份运算符，赋值运算符号。\n",
    "什么时候使用运算符重载。集合就是重载了运算符。\n",
    "不要过度使用运算符重载。"
   ]
  },
  {
   "cell_type": "markdown",
   "metadata": {},
   "source": [
    "### hash"
   ]
  },
  {
   "cell_type": "markdown",
   "metadata": {},
   "source": [
    "使用内置函数hash对某一个对象求hash值时，会调用对象的__hash__方法。"
   ]
  },
  {
   "cell_type": "code",
   "execution_count": 14,
   "metadata": {},
   "outputs": [],
   "source": [
    "class Point:\n",
    "    def __hash__(self):\n",
    "        return 'abc'   #不对"
   ]
  },
  {
   "cell_type": "markdown",
   "metadata": {},
   "source": [
    "__hash__ 方法要返回int，可hash对象，就是具有‘__hash__’方法的对象。hash的返回值和系统32位还是64位有关。\n",
    "\n",
    "**一个类如果没有重写__hash__方法的话，这个类的每个对象，通常具有不同的hash。即使实例变量全部相等。**"
   ]
  },
  {
   "cell_type": "code",
   "execution_count": 13,
   "metadata": {},
   "outputs": [
    {
     "data": {
      "text/plain": [
       "-7279144663657154906"
      ]
     },
     "execution_count": 13,
     "metadata": {},
     "output_type": "execute_result"
    }
   ],
   "source": [
    "class Point:\n",
    "    def __init__(self, x, y):\n",
    "        self.x = x\n",
    "        self.y = y\n",
    "    def __hash__(self):\n",
    "        return hash('{}:{}'.format(self.x, self.y))\n",
    "    def __eq__(self, other):\n",
    "        return self.x == other.x and self.y ==other.y\n",
    "p1 = Point(3,5)\n",
    "p2 = Point(3,5)\n",
    "p1 == p2\n",
    "hash(p2)"
   ]
  },
  {
   "cell_type": "markdown",
   "metadata": {},
   "source": [
    "通常 ‘__hash__’会和 ‘__eq__’一起重写使用，因为解释器通常同时判断hash是否相等，以及实例是否相等。"
   ]
  },
  {
   "cell_type": "markdown",
   "metadata": {},
   "source": [
    "当对象实现了‘__hash’方式是后，可以使用内置方法len求对象的长度。"
   ]
  },
  {
   "cell_type": "markdown",
   "metadata": {},
   "source": [
    "### bool "
   ]
  },
  {
   "cell_type": "markdown",
   "metadata": {},
   "source": [
    "1. 当对象实现了‘__bool’方法是， 方法的返回 o.__bool__()\n",
    "~~2. E当对象没有实现bool 方法时，bool永远返回True。~~\n",
    "3. 当对象o没有实现bool 方法的时候，如果o实现了len方法，bool(o)返回值位len(o) != 0\n",
    "4. 当对象o既没有实现bool方法，也没有实现len方法的时候，bool返回值为True。\n",
    "bool的优先级更高。bool方法必需返回bool类型。"
   ]
  },
  {
   "cell_type": "code",
   "execution_count": 18,
   "metadata": {},
   "outputs": [
    {
     "data": {
      "text/plain": [
       "False"
      ]
     },
     "execution_count": 18,
     "metadata": {},
     "output_type": "execute_result"
    }
   ],
   "source": [
    "bool([0])"
   ]
  },
  {
   "cell_type": "code",
   "execution_count": 19,
   "metadata": {},
   "outputs": [],
   "source": [
    "class Sized:\n",
    "    def __init__(self, size):\n",
    "        self.size = size\n",
    "    def __len__(self):\n",
    "        return self.size\n",
    "    "
   ]
  },
  {
   "cell_type": "markdown",
   "metadata": {},
   "source": [
    "### 对象可视化\n",
    "\n",
    "class类中定义—str-方法：使得输出显示友好。"
   ]
  },
  {
   "cell_type": "code",
   "execution_count": 20,
   "metadata": {},
   "outputs": [],
   "source": [
    "class Point:\n",
    "    def __init__(self, x, y):\n",
    "        self.x = x\n",
    "    def __str__(self): # 给人看的\n",
    "        return 'Point<{},{}>'.format(self.x, self.y)\n",
    "        \n",
    "    def __repr__(self):  #给机器\n",
    "        return 'Point<{},{}>'.format(self.x, self.y)"
   ]
  },
  {
   "cell_type": "markdown",
   "metadata": {},
   "source": [
    "staticmethod没有任何（类，实例）变量可以使用。classmethod可以使用类变量。"
   ]
  },
  {
   "cell_type": "markdown",
   "metadata": {},
   "source": [
    "### callable对象\n",
    "\n",
    "可以通过小括号的方式调用的对象。所有的函数都是function的实例。"
   ]
  },
  {
   "cell_type": "code",
   "execution_count": 22,
   "metadata": {},
   "outputs": [
    {
     "data": {
      "text/plain": [
       "function"
      ]
     },
     "execution_count": 22,
     "metadata": {},
     "output_type": "execute_result"
    }
   ],
   "source": [
    "def fn():\n",
    "    pass\n",
    "\n",
    "fn.__class__"
   ]
  },
  {
   "cell_type": "code",
   "execution_count": 23,
   "metadata": {},
   "outputs": [
    {
     "name": "stdout",
     "output_type": "stream",
     "text": [
      "<__main__.Fn object at 0x10fe32c50> called\n"
     ]
    }
   ],
   "source": [
    "class Fn:\n",
    "    def __call__(self):\n",
    "        print('{} called'.format(self))\n",
    "\n",
    "f =Fn()\n",
    "f()"
   ]
  },
  {
   "cell_type": "markdown",
   "metadata": {},
   "source": [
    "一个对象，只要实现了__call__方法，就可以通过小括号来调用，这一类对象，称之为可调用对象。"
   ]
  },
  {
   "cell_type": "code",
   "execution_count": 28,
   "metadata": {},
   "outputs": [
    {
     "data": {
      "text/plain": [
       "8"
      ]
     },
     "execution_count": 28,
     "metadata": {},
     "output_type": "execute_result"
    }
   ],
   "source": [
    "class Add:\n",
    "    def __call__(self, x, y):\n",
    "        return x+y\n",
    "\n",
    "Add()(3,5)  # 第一个括号是实例化，第二个是函数调用。"
   ]
  },
  {
   "cell_type": "code",
   "execution_count": 3,
   "metadata": {},
   "outputs": [
    {
     "data": {
      "text/plain": [
       "3"
      ]
     },
     "execution_count": 3,
     "metadata": {},
     "output_type": "execute_result"
    }
   ],
   "source": [
    "# 用类写一个装饰器,cache\n",
    "from functools import wraps\n",
    "import datetime\n",
    "import inspect\n",
    "\n",
    "class Cache:\n",
    "    def __init__(self, size=128, expire=0):\n",
    "        self.size = size\n",
    "        self.expire = 0\n",
    "        self.data = {}\n",
    "    @staticmethod    \n",
    "    def make_key(fn, args, kwargs):\n",
    "        ret = []\n",
    "        names = set()\n",
    "        params = inspect.signature(fn).parameters\n",
    "        keys = list(params.keys())\n",
    "        for i,args in enumerate(args):\n",
    "            ret.append((keys[i], args))\n",
    "            names.add(keys[i])\n",
    "        ret.extend(kwargs.items())\n",
    "        names.update(kwargs.keys())\n",
    "        for k,v in params.items():\n",
    "            if k not in names:\n",
    "                ret.append((k, v.default))\n",
    "        ret.sort(key=lambda x: x[0])\n",
    "        return '&'.join(['{} = {}'.format(name,arg) for name,arg in ret])\n",
    "    \n",
    "    \n",
    "    def __call__(self, fn):\n",
    "        @wraps(fn)\n",
    "        def wrap(*args, **kwargs):\n",
    "            key = self.make_key(fn, args, kwargs)\n",
    "            now = datetime.datetime.now().timestamp()\n",
    "            if key in self.data.keys():\n",
    "                value, timetamp, _ = self.data[key]\n",
    "                if expire == 0 or now - timestamp < expire:\n",
    "                    self.data[key] = (value, timestamp, now)\n",
    "                    return value\n",
    "                else:\n",
    "                    self.data.pop(key)\n",
    "            value = fn(*args, **kwargs)\n",
    "            if len(self.data) >= self.size:\n",
    "                if self.expire !=0:\n",
    "                    expires = set()\n",
    "                    for k, (_, timestamp, _) in self.data.items():\n",
    "                        if  now - timestamp >= sel.exprie:\n",
    "                            expires.add(k)\n",
    "                    for k in expries:\n",
    "                        self.data.pop(k)\n",
    "            if len(self.data) >= self.size:\n",
    "                k = sorted(self.data.items(),key=lambda x:x[1][2])[0][0]\n",
    "                self.data.pop(k)\n",
    "            self.data[key] = (value, now, now)\n",
    "            return value\n",
    "        return wrap\n",
    "                \n",
    "                \n",
    "@Cache()\n",
    "def add(x, y):\n",
    "    return x + y\n",
    "                                \n",
    "add(1,2)                \n",
    "                \n",
    "    "
   ]
  },
  {
   "cell_type": "markdown",
   "metadata": {},
   "source": [
    "非常复杂的装饰器，使用类来写，可以拆分装饰器对象。\n",
    "用 —call-来实现可调用对象，和闭包是殊同同归的，通常是为了封装一些内部状态。\n",
    "\n",
    "### 上下文管理"
   ]
  },
  {
   "cell_type": "markdown",
   "metadata": {},
   "source": [
    "with open('./haha.txt') as f:\n",
    "    pass    "
   ]
  },
  {
   "cell_type": "markdown",
   "metadata": {},
   "source": [
    "open函数返回的是一个文件对象，而文件对象是支持上下文管理的，支持上下文管理的对象可以使用。\n"
   ]
  },
  {
   "cell_type": "code",
   "execution_count": null,
   "metadata": {},
   "outputs": [],
   "source": [
    "当一个类同时实现了，-enter-和 -exit- 方法，那么这个对象就是支持上下文管理的对象。"
   ]
  },
  {
   "cell_type": "code",
   "execution_count": null,
   "metadata": {},
   "outputs": [],
   "source": [
    "class Context():\n",
    "    def __exter__(self):\n",
    "        print('enter context')\n",
    "    def __exit__(self, *args, **kwargs):\n",
    "        print('exit context')\n",
    "        \n",
    "with Context():\n",
    "    print('do somethings')\n",
    "print('out of context')"
   ]
  },
  {
   "cell_type": "markdown",
   "metadata": {},
   "source": [
    "进入with语句块之前，会执行—enter-方法，退出with语句块之前，会执行-exit-方法。\n",
    "问什么叫上下文？\n",
    "with开启一个语句块之前，会执行-enter-方法，，执行这个语句块之后，会执行-exit-方法，也就是说在这个语句块的前后会执行一些操作。"
   ]
  },
  {
   "cell_type": "code",
   "execution_count": null,
   "metadata": {},
   "outputs": [],
   "source": [
    "with Context():\n",
    "    raise Exception()\n",
    " "
   ]
  },
  {
   "cell_type": "markdown",
   "metadata": {},
   "source": [
    "即使 with块，抛出异常，enter和exit还是会执行，所以上下文管理是安全的。即使解释器错误被退出这类极端情况。\n",
    "\n",
    "\n",
    "as子句可以获取—enter-方法的返回值, enter除了self之外，不带任何参数。 \n",
    "exit的返回值，没有办法获得到，如果with块中抛出异常，exit返回False的时候，会向上抛出异常，返回True，会屏蔽异常。exit的返回值是无意义的。"
   ]
  },
  {
   "cell_type": "code",
   "execution_count": null,
   "metadata": {},
   "outputs": [],
   "source": [
    "class Context:\n",
    "    def __enter__(self, *args, **kwargs):\n",
    "        print\n",
    "\n",
    "    def __exit__(self, *args, **kwargs):\n",
    "        print('exit context'）\n",
    "        return 'haha'\n",
    "\n",
    "with Context() as c:\n",
    "    print(c)\n",
    "              "
   ]
  },
  {
   "cell_type": "code",
   "execution_count": 10,
   "metadata": {},
   "outputs": [
    {
     "name": "stdout",
     "output_type": "stream",
     "text": [
      "enter context\n",
      "exit context\n",
      "exception:<class 'TypeError'>\n"
     ]
    }
   ],
   "source": [
    "class Context:\n",
    "    def __enter__(self):\n",
    "        print('enter context')\n",
    "    def __exit__(self, exc_type, exc, traceback):\n",
    "        print('exit context')\n",
    "        print('exception:{}'.format(exc_type))\n",
    "        return True\n",
    "    \n",
    "    \n",
    "with Context():\n",
    "    raise TypeError('haha')\n",
    "\n",
    "        \n",
    "# exit的三个参数，异常类型，异常，traceback  三个异常。如果with块里面没有抛出异常。则不会不 u    "
   ]
  },
  {
   "cell_type": "markdown",
   "metadata": {},
   "source": [
    "#### 上下文管理的应用\n",
    "    计时\n",
    "   "
   ]
  },
  {
   "cell_type": "code",
   "execution_count": 18,
   "metadata": {},
   "outputs": [
    {
     "name": "stdout",
     "output_type": "stream",
     "text": [
      "0:00:00.000008\n"
     ]
    }
   ],
   "source": [
    "class Timeit:\n",
    "    def __init__(self, fn=None):\n",
    "        wraps(fn)(self)\n",
    "        \n",
    "    def __call__(self, *args, **kwargs):\n",
    "        start = datetime.datetime.now()\n",
    "        ret = self.__wrapped__(*args, **kwargs)\n",
    "        cost = datetime.datetime.now() - start\n",
    "        print(cost)\n",
    "        return  ret\n",
    "    \n",
    "    def __enter__(self):\n",
    "        self.start = datetime.datetime.now()\n",
    "    \n",
    "    def __exit__(self, *args):\n",
    "        cost = datetime.datetime.now() - self.start\n",
    "        print(cost)\n",
    "\n",
    "with Timeit():\n",
    "    z = 3 + 8"
   ]
  },
  {
   "cell_type": "code",
   "execution_count": 19,
   "metadata": {},
   "outputs": [],
   "source": [
    "@Timeit\n",
    "def add(x, y):\n",
    "    return x + y"
   ]
  },
  {
   "cell_type": "markdown",
   "metadata": {},
   "source": [
    "* 凡是要确保一个代码块前后插入代码的场景统统适用。\n",
    "    * 资源管理\n",
    "    * 权限验证\n",
    "\n",
    "和装饰器有类似的地方。但可以针对一个代码块。"
   ]
  },
  {
   "cell_type": "code",
   "execution_count": 20,
   "metadata": {},
   "outputs": [
    {
     "ename": "SyntaxError",
     "evalue": "Missing parentheses in call to 'print'. Did you mean print(c)? (<ipython-input-20-2779085efa7d>, line 13)",
     "output_type": "error",
     "traceback": [
      "\u001b[0;36m  File \u001b[0;32m\"<ipython-input-20-2779085efa7d>\"\u001b[0;36m, line \u001b[0;32m13\u001b[0m\n\u001b[0;31m    print c\u001b[0m\n\u001b[0m          ^\u001b[0m\n\u001b[0;31mSyntaxError\u001b[0m\u001b[0;31m:\u001b[0m Missing parentheses in call to 'print'. Did you mean print(c)?\n"
     ]
    }
   ],
   "source": [
    "import contextlib\n",
    "# 方便实现上下文管理，将生成器转化为上下文管理器\n",
    "@contextlib.contextmanager\n",
    "def context():\n",
    "    print('enter context') #初始化部分，相当于 __enter__ 方法\n",
    "    try:\n",
    "        yield 'haha'  #相当于 ————enter--的返回值\n",
    "    finally:\n",
    "        print('exit context') #清理部分，相当于 __exit__ 方法\n",
    "\n",
    "\n",
    "with context() as c:\n",
    "    print(c)\n",
    "    raise Exception()\n",
    "\n",
    "#实现contextmanager方法"
   ]
  },
  {
   "cell_type": "markdown",
   "metadata": {},
   "source": [
    "### 反射 \n",
    "运行时获取类的信息"
   ]
  },
  {
   "cell_type": "code",
   "execution_count": null,
   "metadata": {},
   "outputs": [],
   "source": [
    "# 定义一个类看他有什么属性\n",
    "class Point:\n",
    "    def __init__(self, x, y):\n",
    "        self.x = x\n",
    "        self.y = y"
   ]
  },
  {
   "cell_type": "markdown",
   "metadata": {},
   "source": [
    "### getarrt setattr hasattr\n",
    "通过成员名称，获取对象的成员\n"
   ]
  },
  {
   "cell_type": "markdown",
   "metadata": {},
   "source": [
    "getattr(p, 'print') #成员方法无法通过_dict__获取,但是可以通过getattr函数获取\n",
    "getattr(p, 'x') #getattr 也可有获取到属性\n",
    "给实例动态增加方法需要先把函数转化为方法，转化的方法type.Method"
   ]
  },
  {
   "cell_type": "code",
   "execution_count": null,
   "metadata": {},
   "outputs": [],
   "source": [
    "class Command:\n",
    "    def cmd1(self):\n",
    "        print('cmd1')\n",
    "    def cmd2(self):\n",
    "        print('cmd2')\n",
    "    def run(self):\n",
    "        while True:\n",
    "            cmd = input('>>>').strip()\n",
    "            if cmd == 'quit':\n",
    "                return \n",
    "            getattr(self, cmd, lambda: print('not found cmd {}'.format(cmd)))()\n",
    "\n",
    "cmd = Command()\n",
    "cmd.run()\n"
   ]
  },
  {
   "cell_type": "code",
   "execution_count": null,
   "metadata": {},
   "outputs": [],
   "source": [
    "RPC中利用反射。\n",
    "***\n",
    "___getattr__ , __setattr___, ___delattr____"
   ]
  },
  {
   "cell_type": "code",
   "execution_count": null,
   "metadata": {},
   "outputs": [],
   "source": [
    "class A:\n",
    "    def  __init__(self):\n",
    "        self.x = 3 \n",
    "a  = A()\n",
    "a.x\n",
    "# 如果访问一个不存在的值会报错。如果不想报错，自定义。"
   ]
  },
  {
   "cell_type": "code",
   "execution_count": null,
   "metadata": {},
   "outputs": [],
   "source": [
    "class A:\n",
    "    NAME = 'A'\n",
    "    def __init__(self):\n",
    "        self.x =3 \n",
    "    def __getattr__(self, name):\n",
    "        return 'missing property {}'.format(name)\n",
    "    \n",
    "# 当一个类定义了`__getattr__`方法时，如果访问不存在的成员，会调用getattr。"
   ]
  },
  {
   "cell_type": "markdown",
   "metadata": {},
   "source": [
    "属性查找顺序。\n",
    "dict> class >__getattr__"
   ]
  },
  {
   "cell_type": "code",
   "execution_count": null,
   "metadata": {},
   "outputs": [],
   "source": [
    "class A:\n",
    "    def __init__(self):\n",
    "        self.x = 3\n",
    "        \n",
    "    def __setattr__(self, name, value):\n",
    "        print('set {} to {}'.format(name, value))\n",
    "        self.__dict__[name] =value\n",
    "\n",
    "a= A()\n",
    "a.x \n",
    "a.y=5 \n",
    " "
   ]
  },
  {
   "cell_type": "markdown",
   "metadata": {},
   "source": [
    "当一个类实现了__setattr__时，任何地方对这个类的对象增加属性，或者对现有属性赋值，都会调用__setattr__."
   ]
  },
  {
   "cell_type": "code",
   "execution_count": null,
   "metadata": {},
   "outputs": [],
   "source": [
    "当需要对实例属性的修改，做一些额外的操作的时候，可以使用__setattr__。但尽量不要使用，除非有足够理由。"
   ]
  },
  {
   "cell_type": "code",
   "execution_count": 23,
   "metadata": {},
   "outputs": [],
   "source": [
    "class A:\n",
    "    def __init__(self):\n",
    "        self.x =3 \n",
    "    def __delattr__(self, name):  # 当一个实现了————delattr——方法的时，删除其实离的属性，会调用此方法。\n",
    "        print('you cann not delete property:P{}'.format(name))\n",
    "\n"
   ]
  },
  {
   "cell_type": "code",
   "execution_count": 24,
   "metadata": {},
   "outputs": [],
   "source": [
    "a = A()"
   ]
  },
  {
   "cell_type": "code",
   "execution_count": 25,
   "metadata": {},
   "outputs": [
    {
     "data": {
      "text/plain": [
       "3"
      ]
     },
     "execution_count": 25,
     "metadata": {},
     "output_type": "execute_result"
    }
   ],
   "source": [
    "a.x"
   ]
  },
  {
   "cell_type": "markdown",
   "metadata": {},
   "source": [
    "### __getattribute__"
   ]
  },
  {
   "cell_type": "code",
   "execution_count": 28,
   "metadata": {},
   "outputs": [],
   "source": [
    "class A:\n",
    "    NAME = 'A'\n",
    "    def __init__(self):\n",
    "        self.x = 3\n",
    "    def __getattribute__(self, name):\n",
    "        return 'haha'"
   ]
  },
  {
   "cell_type": "code",
   "execution_count": 29,
   "metadata": {},
   "outputs": [],
   "source": [
    "a =A()\n",
    "a.x"
   ]
  },
  {
   "cell_type": "code",
   "execution_count": 29,
   "metadata": {},
   "outputs": [],
   "source": [
    "a.NAME"
   ]
  },
  {
   "cell_type": "code",
   "execution_count": 29,
   "metadata": {},
   "outputs": [],
   "source": [
    "a.__dict__"
   ]
  },
  {
   "cell_type": "code",
   "execution_count": 29,
   "metadata": {},
   "outputs": [
    {
     "data": {
      "text/plain": [
       "'haha'"
      ]
     },
     "execution_count": 29,
     "metadata": {},
     "output_type": "execute_result"
    }
   ],
   "source": [
    "a.method"
   ]
  },
  {
   "cell_type": "markdown",
   "metadata": {},
   "source": [
    "`__getattribute__` > `__dict__` > `__class__,__dict__`> __getattr__\n",
    "针对实例的。\n",
    "以上是全部的反射。\n",
    "***\n",
    "描述器"
   ]
  },
  {
   "cell_type": "code",
   "execution_count": 10,
   "metadata": {},
   "outputs": [],
   "source": [
    "class Int:\n",
    "    def __init__(self, name):\n",
    "        self.name = name\n",
    "    def __get__(self, instance, cls):\n",
    "        print('get {}'.format(self.name))\n",
    "        if instance is not None:\n",
    "            return instance.__dict__[self.name]\n",
    "        return self\n",
    "    \n",
    "    def __set__(self, instance, value):\n",
    "        instance.__dict__[self.name] = value"
   ]
  },
  {
   "cell_type": "code",
   "execution_count": 11,
   "metadata": {},
   "outputs": [],
   "source": [
    "class A:\n",
    "    val  = Int('val')\n",
    "    \n",
    "    def __init__(self):\n",
    "        self.val = 3"
   ]
  },
  {
   "cell_type": "code",
   "execution_count": 12,
   "metadata": {},
   "outputs": [],
   "source": [
    "a = A()"
   ]
  },
  {
   "cell_type": "code",
   "execution_count": 13,
   "metadata": {},
   "outputs": [
    {
     "name": "stdout",
     "output_type": "stream",
     "text": [
      "get val\n"
     ]
    },
    {
     "data": {
      "text/plain": [
       "3"
      ]
     },
     "execution_count": 13,
     "metadata": {},
     "output_type": "execute_result"
    }
   ],
   "source": [
    "a.val"
   ]
  },
  {
   "cell_type": "code",
   "execution_count": 14,
   "metadata": {},
   "outputs": [
    {
     "data": {
      "text/plain": [
       "{'val': 3}"
      ]
     },
     "execution_count": 14,
     "metadata": {},
     "output_type": "execute_result"
    }
   ],
   "source": [
    "a.__dict__"
   ]
  },
  {
   "cell_type": "markdown",
   "metadata": {},
   "source": [
    "描述器是需要搞点的。\n",
    "描述器是一个类，实现了__get__， set， delete 中 1个或多个方法\n",
    "\n",
    "描述器事实上是一种代理方法\n",
    "当一个*类变量*被定义为描述器，对这个类变量的操作，将会由此描述器来代理。\n",
    "\n",
    "* 访问：`__get__`\n",
    "* 赋值  --set--\n",
    "* 删除  ——delete--  \n",
    "\n",
    "当一个描述器实现了————set————方法， 优先级会被提升到--dict————之前。"
   ]
  },
  {
   "cell_type": "markdown",
   "metadata": {},
   "source": [
    "***"
   ]
  },
  {
   "cell_type": "code",
   "execution_count": 16,
   "metadata": {},
   "outputs": [
    {
     "ename": "SyntaxError",
     "evalue": "invalid syntax (<ipython-input-16-321258a6b6a9>, line 2)",
     "output_type": "error",
     "traceback": [
      "\u001b[0;36m  File \u001b[0;32m\"<ipython-input-16-321258a6b6a9>\"\u001b[0;36m, line \u001b[0;32m2\u001b[0m\n\u001b[0;31m    new  init delete\u001b[0m\n\u001b[0m            ^\u001b[0m\n\u001b[0;31mSyntaxError\u001b[0m\u001b[0;31m:\u001b[0m invalid syntax\n"
     ]
    }
   ],
   "source": [
    "## 类的创建与销毁 \n",
    "new  init delete"
   ]
  },
  {
   "cell_type": "code",
   "execution_count": null,
   "metadata": {},
   "outputs": [],
   "source": [
    "元编程\n",
    "神奇之处在于用代码创建了一种新的类型， 也就是代码具有写代码的能力。\n",
    "这种能力叫元编程。\n",
    "\n",
    "通过元编程控制类创建的过程。 除非你知道你在干什么。"
   ]
  }
 ],
 "metadata": {
  "kernelspec": {
   "display_name": "Python 3",
   "language": "python",
   "name": "python3"
  },
  "language_info": {
   "codemirror_mode": {
    "name": "ipython",
    "version": 3
   },
   "file_extension": ".py",
   "mimetype": "text/x-python",
   "name": "python",
   "nbconvert_exporter": "python",
   "pygments_lexer": "ipython3",
   "version": "3.7.6"
  }
 },
 "nbformat": 4,
 "nbformat_minor": 4
}
