{
 "cells": [
  {
   "cell_type": "markdown",
   "metadata": {},
   "source": [
    "List Comprehensions  解析式\n",
    ",是Python内置的非常简单强大的用来创建list的生成式\n",
    "对一个list的所有数值求平方\n"
   ]
  },
  {
   "cell_type": "code",
   "execution_count": 3,
   "metadata": {},
   "outputs": [
    {
     "name": "stdout",
     "output_type": "stream",
     "text": [
      "[0, 1, 4, 9, 16, 25, 36, 49, 64, 81]\n"
     ]
    }
   ],
   "source": [
    "lst = list(range(10))\n",
    "\n",
    "ret = [ x ** 2 for x in  lst]  # 列表解析\n",
    "print(ret)"
   ]
  },
  {
   "cell_type": "markdown",
   "metadata": {},
   "source": [
    "列表解析\n",
    "[expr for e in iterator]\n",
    "\n",
    "* 代码简洁，可读性强\n",
    "* 效率比普通迭代稍高\n",
    "\n",
    "列表解析返回的是列表，还有if字句。\n",
    "[expr for e in iterator if cond]"
   ]
  },
  {
   "cell_type": "code",
   "execution_count": null,
   "metadata": {},
   "outputs": [],
   "source": [
    "ret = [x for in x in lst if x > 0 if x % 2 == 0]"
   ]
  },
  {
   "cell_type": "markdown",
   "metadata": {},
   "source": [
    "上面等效与下面。"
   ]
  },
  {
   "cell_type": "code",
   "execution_count": null,
   "metadata": {},
   "outputs": [],
   "source": [
    "ret  = []\n",
    "for x in lst:\n",
    "    if x > 0:\n",
    "        if x < 5:\n",
    "            if x % 2 == 0:\n",
    "                ret.append(x)"
   ]
  },
  {
   "cell_type": "markdown",
   "metadata": {},
   "source": [
    "带多个if语句的，都可以转化为条件的逻辑运算，所以一般来说，不会带带多个if。每个if或for 后面都是完整的缩进。\n",
    "可以使用多个for语句，相当于逐层嵌套。"
   ]
  },
  {
   "cell_type": "code",
   "execution_count": 5,
   "metadata": {},
   "outputs": [],
   "source": [
    " # [(x,y) for x in range(5) for y in range(5, 10)]\n"
   ]
  },
  {
   "cell_type": "code",
   "execution_count": null,
   "metadata": {},
   "outputs": [],
   "source": [
    "ret = []\n",
    "for x in range(5):\n",
    "    for y in range(5,10):\n",
    "        ret.append((x,y))\n",
    "[(x,y,z) for x in range(5) for in range(5,10) for z in range(10, 15)]"
   ]
  },
  {
   "cell_type": "code",
   "execution_count": 6,
   "metadata": {},
   "outputs": [
    {
     "data": {
      "text/plain": [
       "[(1, 5),\n",
       " (1, 6),\n",
       " (1, 7),\n",
       " (1, 8),\n",
       " (1, 9),\n",
       " (2, 5),\n",
       " (2, 6),\n",
       " (2, 7),\n",
       " (2, 8),\n",
       " (2, 9),\n",
       " (3, 5),\n",
       " (3, 6),\n",
       " (3, 7),\n",
       " (3, 8),\n",
       " (3, 9),\n",
       " (4, 5),\n",
       " (4, 6),\n",
       " (4, 7),\n",
       " (4, 8),\n",
       " (4, 9)]"
      ]
     },
     "execution_count": 6,
     "metadata": {},
     "output_type": "execute_result"
    }
   ],
   "source": [
    "[(x,y) for x in range(5) if x > 0 for y in range(5, 10)]"
   ]
  },
  {
   "cell_type": "code",
   "execution_count": 7,
   "metadata": {},
   "outputs": [],
   "source": [
    "ret = []\n",
    "for x in range(5):\n",
    "    if x > 0:\n",
    "        for y in range(5, 10):\n",
    "            ret.append((x, y))"
   ]
  },
  {
   "cell_type": "code",
   "execution_count": null,
   "metadata": {},
   "outputs": [],
   "source": [
    "跟着感觉走。最大的功能是代码简洁。如果破坏了可读性、简洁性，就不要使用了。"
   ]
  },
  {
   "cell_type": "code",
   "execution_count": null,
   "metadata": {},
   "outputs": [],
   "source": [
    "x ** 2 if x % 2 == 0 else x ** 3 \n",
    "\n",
    "ret = 0\n",
    "\n",
    "if x % 2 == 0:\n",
    "    ret = x ** 2\n",
    "else:\n",
    "    ret == x ** 3"
   ]
  },
  {
   "cell_type": "code",
   "execution_count": null,
   "metadata": {},
   "outputs": [],
   "source": [
    "x if  cond else y\n",
    "当条件满足是返回x， 当条件不满足是返回y。只是一个表达式。\n",
    "[x ** 2 if x % 2 ==0 else x ** 3 for x in lst]\n",
    "\n",
    "解析式也可以进行嵌套。但不建议使用。"
   ]
  },
  {
   "cell_type": "markdown",
   "metadata": {},
   "source": [
    "***\n",
    "# 生成器解析\n",
    "\n",
    "生成器解析返回的是生成器.惰性求值，不占用内存。\n",
    "列表解析返回的是list， 这届占用内存。\n",
    "中括号编变成小括号。"
   ]
  },
  {
   "cell_type": "code",
   "execution_count": null,
   "metadata": {},
   "outputs": [],
   "source": [
    "g = (x ** 2 for x in range(10000000))"
   ]
  },
  {
   "cell_type": "markdown",
   "metadata": {},
   "source": [
    "什么时候用list解析，什么时候用生成器解析？\n",
    "需要用下标访问的时候，用列表解析，只需要对结果迭代的时候，优先使用生成器解析。\n",
    "生成器解析式返回的是一个生成器。\n",
    "\n",
    "\n",
    "\n",
    "解析式： 有列表解析式，集合解析，字典解析三种。\n",
    "\n",
    "\n",
    "\n",
    "## 集合解析\n",
    "{  x for x in range(10)}  使用大括号括起来。\n",
    "\n",
    "## 字典解析"
   ]
  },
  {
   "cell_type": "code",
   "execution_count": 9,
   "metadata": {},
   "outputs": [],
   "source": [
    "{str(x): x  for x in range(10)}   # 大括号括起来，但是还是字典。\n",
    "\n",
    "d = {}\n",
    "\n",
    "for x in range(10):\n",
    "   d[str(x)] = x"
   ]
  },
  {
   "cell_type": "markdown",
   "metadata": {},
   "source": [
    "# 可迭代对象和迭代器\n",
    "\n",
    "有`__iter__` 的对象叫可迭代对象."
   ]
  },
  {
   "cell_type": "code",
   "execution_count": null,
   "metadata": {},
   "outputs": [],
   "source": [
    "for x in range(5):\n",
    "    pass\n",
    "# for in 语句要求一个可迭代对象。  "
   ]
  },
  {
   "cell_type": "markdown",
   "metadata": {},
   "source": [
    "迭代器是可迭代对象。\n",
    "   \n",
    "有`__next__` 方法的可迭代对象叫迭代器，所以可迭代对象不一定是迭代器。\n",
    "可迭代对象可以转化为迭代器。"
   ]
  },
  {
   "cell_type": "code",
   "execution_count": 12,
   "metadata": {},
   "outputs": [
    {
     "data": {
      "text/plain": [
       "['__getattribute__',\n",
       " '__iter__',\n",
       " '__next__',\n",
       " '__length_hint__',\n",
       " '__reduce__',\n",
       " '__setstate__',\n",
       " '__doc__',\n",
       " '__repr__',\n",
       " '__hash__',\n",
       " '__str__',\n",
       " '__setattr__',\n",
       " '__delattr__',\n",
       " '__lt__',\n",
       " '__le__',\n",
       " '__eq__',\n",
       " '__ne__',\n",
       " '__gt__',\n",
       " '__ge__',\n",
       " '__init__',\n",
       " '__new__',\n",
       " '__reduce_ex__',\n",
       " '__subclasshook__',\n",
       " '__init_subclass__',\n",
       " '__format__',\n",
       " '__sizeof__',\n",
       " '__dir__',\n",
       " '__class__']"
      ]
     },
     "execution_count": 12,
     "metadata": {},
     "output_type": "execute_result"
    }
   ],
   "source": [
    "it = iter(range(5))\n",
    "it.__dir__()"
   ]
  },
  {
   "cell_type": "code",
   "execution_count": null,
   "metadata": {},
   "outputs": [],
   "source": []
  },
  {
   "cell_type": "markdown",
   "metadata": {},
   "source": [
    "iter函数可以吧一个可迭代对象转化为迭代器。\n",
    "\n",
    "next函数可以从迭代器里取出下一个元素。"
   ]
  },
  {
   "cell_type": "markdown",
   "metadata": {},
   "source": [
    "\n",
    "迭代器会保存一个指针，指向可迭代对象的当前元素。调用next函数的时候，会返回当前元素，并且把指针指向下一个元素。next指向下一个元素。没有下一个元素时，会爆出`stopiteration`错误。\n",
    "\n",
    "for in 循环对于可迭代对象，首先调用iter方法转化为迭代器，然后不断的调用next方法，直到抛出异常。\n",
    "\n",
    "\n",
    "\n",
    "***\n",
    "以上全部属于内置数据结构。"
   ]
  },
  {
   "cell_type": "code",
   "execution_count": 15,
   "metadata": {},
   "outputs": [
    {
     "name": "stdout",
     "output_type": "stream",
     "text": [
      "[1]\n"
     ]
    }
   ],
   "source": [
    "a = []\n",
    "def func():\n",
    "    a.append(1)\n",
    "    print(a)\n",
    "func()"
   ]
  },
  {
   "cell_type": "code",
   "execution_count": 16,
   "metadata": {},
   "outputs": [
    {
     "name": "stdout",
     "output_type": "stream",
     "text": [
      "[1, 1]\n"
     ]
    }
   ],
   "source": [
    "func()"
   ]
  },
  {
   "cell_type": "code",
   "execution_count": null,
   "metadata": {},
   "outputs": [],
   "source": []
  }
 ],
 "metadata": {
  "kernelspec": {
   "display_name": "Python 3",
   "language": "python",
   "name": "python3"
  },
  "language_info": {
   "codemirror_mode": {
    "name": "ipython",
    "version": 3
   },
   "file_extension": ".py",
   "mimetype": "text/x-python",
   "name": "python",
   "nbconvert_exporter": "python",
   "pygments_lexer": "ipython3",
   "version": "3.7.2"
  }
 },
 "nbformat": 4,
 "nbformat_minor": 2
}
