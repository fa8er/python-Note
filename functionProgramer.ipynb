{
 "cells": [
  {
   "cell_type": "markdown",
   "metadata": {},
   "source": [
    "# 函数式编程\n",
    "函数是python里组织代码的最小单元。\n",
    "```python\n",
    "def add(x, y):  #函数定义 def 表示定义一个函数，紧接着是函数名 函数名后面用一堆小括号列出参数列表， 参数列表后面使用一个冒号开始函数体\n",
    "    print(x + y) \n",
    "    return x + y # 函数的返回值\n",
    "```\n",
    "\n",
    "函数在定义的时候才会执行。\n",
    "\n",
    "```python\n",
    "add(3, 5) #参数按照定义的顺序闯入，这样的传参方法叫做位置参数。\n",
    "add(y=3, x=5) # 参数按照定义时的变量名传递，这样的传参数方法叫做关键字参数，关键字参数和顺序无关。\n",
    "add(3, y=5) # 位置参数和关键子参数可以混合使用。\n",
    "add(x=3, 5)  # 当位置参数和关键字参数混合使用时，位置参数必须在前面， 否则会抛出语法错误。\n",
    "```"
   ]
  },
  {
   "cell_type": "markdown",
   "metadata": {},
   "source": [
    "# 参数\n",
    "## 参数默认值\n",
    "```python\n",
    "def inc(base, x =1):   # 参数默认值必须在不带默认值的参数之后，不然报错。\n",
    "    return base + x\n",
    "\n",
    "inc(3)\n",
    "```\n",
    "参数可以有默认值，当一个参数有默认值时候，调用时如果不传递此参数，会使用默认值。\n",
    "参数默认值和关键字参数一起使用，会让代码非常简洁。\n",
    "***"
   ]
  },
  {
   "cell_type": "markdown",
   "metadata": {},
   "source": [
    "## 可变参数"
   ]
  },
  {
   "cell_type": "code",
   "execution_count": 1,
   "metadata": {},
   "outputs": [
    {
     "name": "stdout",
     "output_type": "stream",
     "text": [
      "<class 'tuple'>\n"
     ]
    },
    {
     "data": {
      "text/plain": [
       "6"
      ]
     },
     "execution_count": 1,
     "metadata": {},
     "output_type": "execute_result"
    }
   ],
   "source": [
    "def sun(*lst):  # 参数加星号，表示参数是可变的，也就是可以接受任意多个参数。这些参数将构成一个元祖。此时只能通过位置参数传参。\n",
    "    print(type(lst))\n",
    "    ret = 0 \n",
    "    for x in lst:\n",
    "        ret += x \n",
    "    return ret\n",
    "\n",
    "sun(1,2,3)"
   ]
  },
  {
   "cell_type": "code",
   "execution_count": 3,
   "metadata": {},
   "outputs": [
    {
     "name": "stdout",
     "output_type": "stream",
     "text": [
      "<class 'dict'>\n",
      "host => 127.0.0.1\n",
      "port => 3306\n"
     ]
    }
   ],
   "source": [
    " def connect(**kwargs):  ## 参数通过两个*， 也表示参数是可变的，参数将构成字典。此时是关键字参数传参。 \n",
    "        print(type(kwargs))\n",
    "        for k,v in kwargs.items():\n",
    "            print('{} => {}'.format(k ,v))\n",
    "\n",
    "connect(host='127.0.0.1', port=3306)\n",
    "   "
   ]
  },
  {
   "cell_type": "markdown",
   "metadata": {},
   "source": [
    "可变参数两种形式：\n",
    "* 位置可变参数 ：参数名前加**一个**星号， 构成**元祖**，传参只能以**位置参数**的形式。\n",
    "* 关键字可变参数：参数名前加两个星号，构成**字典**， 传参只能以**关键字参数**的形式。"
   ]
  },
  {
   "cell_type": "code",
   "execution_count": null,
   "metadata": {},
   "outputs": [],
   "source": [
    "参数顺序：\n",
    "普通参数可以和可变参数一起使用，但是传参的时候必须匹配。"
   ]
  },
  {
   "cell_type": "code",
   "execution_count": 5,
   "metadata": {},
   "outputs": [
    {
     "name": "stdout",
     "output_type": "stream",
     "text": [
      "2 3\n",
      "4\n"
     ]
    }
   ],
   "source": [
    "def fn(*args, x):\n",
    "    print(*args)\n",
    "    print(x)\n",
    "    \n",
    "    \n",
    " # fn(2, 3, 4)  #报错。\n",
    "fn(2, 3, x=4)"
   ]
  },
  {
   "cell_type": "code",
   "execution_count": null,
   "metadata": {},
   "outputs": [],
   "source": [
    "位置可变参数可以在普通参数之前，但是在位置可变参数之后的普通参数变成了keyword-only参数。\n",
    "\n",
    "通常来说：\n",
    "1. 默认参数靠后。\n",
    "2. 可变参数靠后。\n",
    "3. 默认参数和可变参数不同时出现。"
   ]
  },
  {
   "cell_type": "code",
   "execution_count": null,
   "metadata": {},
   "outputs": [],
   "source": [
    "## 参数解构"
   ]
  },
  {
   "cell_type": "code",
   "execution_count": 8,
   "metadata": {},
   "outputs": [
    {
     "name": "stdout",
     "output_type": "stream",
     "text": [
      "1 + 2 = 3\n"
     ]
    },
    {
     "data": {
      "text/plain": [
       "3"
      ]
     },
     "execution_count": 8,
     "metadata": {},
     "output_type": "execute_result"
    }
   ],
   "source": [
    "def add(x,y):\n",
    "    ret =  x + y\n",
    "    print('{} + {} = {}'.format(x ,y, ret))\n",
    "    return ret\n",
    "\n",
    "t =[1,2]   \n",
    "add(*t)   #位置参数结构 加一个*可以把一个可迭代对象解构成位置参数。 不要和可变参数混淆。"
   ]
  },
  {
   "cell_type": "code",
   "execution_count": null,
   "metadata": {},
   "outputs": [],
   "source": [
    "参数解构发生在函数调用的时候，可变参数发生在函数定义的时候。"
   ]
  },
  {
   "cell_type": "code",
   "execution_count": 9,
   "metadata": {},
   "outputs": [
    {
     "name": "stdout",
     "output_type": "stream",
     "text": [
      "1 + 2 = 3\n"
     ]
    },
    {
     "data": {
      "text/plain": [
       "3"
      ]
     },
     "execution_count": 9,
     "metadata": {},
     "output_type": "execute_result"
    }
   ],
   "source": [
    "d = {'x':1, 'y':2}\n",
    "add(**d) #关键字参数结构。 加**可把字典，解构成关键字参数。"
   ]
  },
  {
   "cell_type": "markdown",
   "metadata": {},
   "source": [
    "* 一个星号 解构对象：可迭代的对象  解构的结果:位置参数\n",
    "\n",
    "* 两个星号 解构对象：字典， 解构的结果：关键字参数\n",
    "\n",
    "可变参数和参数解构并不冲突。\n",
    "参数解构是运行时。可变参数是在定义时。"
   ]
  },
  {
   "cell_type": "code",
   "execution_count": 10,
   "metadata": {},
   "outputs": [
    {
     "data": {
      "text/plain": [
       "45"
      ]
     },
     "execution_count": 10,
     "metadata": {},
     "output_type": "execute_result"
    }
   ],
   "source": [
    "def sun(*args):\n",
    "    ret = 0\n",
    "    for x in args:\n",
    "        ret += x\n",
    "    return ret\n",
    "\n",
    "sun(*range(10))"
   ]
  },
  {
   "cell_type": "code",
   "execution_count": 11,
   "metadata": {},
   "outputs": [
    {
     "name": "stdout",
     "output_type": "stream",
     "text": [
      "{'ddd': 1}\n"
     ]
    }
   ],
   "source": [
    "def fn(**kwargs):\n",
    "    print(kwargs)\n",
    "fn(**{'ddd':1})"
   ]
  },
  {
   "cell_type": "code",
   "execution_count": null,
   "metadata": {},
   "outputs": [],
   "source": [
    "关键字参数解构，key必须是str。"
   ]
  },
  {
   "cell_type": "markdown",
   "metadata": {},
   "source": [
    "### keyword-only 参数  "
   ]
  },
  {
   "cell_type": "code",
   "execution_count": 17,
   "metadata": {},
   "outputs": [
    {
     "name": "stdout",
     "output_type": "stream",
     "text": [
      "3\n"
     ]
    },
    {
     "ename": "TypeError",
     "evalue": "fn() takes 0 positional arguments but 1 was given",
     "output_type": "error",
     "traceback": [
      "\u001b[0;31m---------------------------------------------------------------------------\u001b[0m",
      "\u001b[0;31mTypeError\u001b[0m                                 Traceback (most recent call last)",
      "\u001b[0;32m<ipython-input-17-a5994f17cb30>\u001b[0m in \u001b[0;36m<module>\u001b[0;34m()\u001b[0m\n\u001b[1;32m      4\u001b[0m \u001b[0;34m\u001b[0m\u001b[0m\n\u001b[1;32m      5\u001b[0m \u001b[0mfn\u001b[0m\u001b[0;34m(\u001b[0m\u001b[0mx\u001b[0m\u001b[0;34m=\u001b[0m\u001b[0;36m3\u001b[0m\u001b[0;34m)\u001b[0m\u001b[0;34m\u001b[0m\u001b[0;34m\u001b[0m\u001b[0m\n\u001b[0;32m----> 6\u001b[0;31m \u001b[0mfn\u001b[0m\u001b[0;34m(\u001b[0m\u001b[0;36m1\u001b[0m\u001b[0;34m)\u001b[0m\u001b[0;34m\u001b[0m\u001b[0;34m\u001b[0m\u001b[0m\n\u001b[0m",
      "\u001b[0;31mTypeError\u001b[0m: fn() takes 0 positional arguments but 1 was given"
     ]
    }
   ],
   "source": [
    "# python3新内容。\n",
    "def fn(*, x):  #*号之后的参数只能通过关键字参数传递，叫做keyword-only参数。 *本身不接受任何参数。\n",
    "    print(x)\n",
    "\n",
    "fn(x=3)\n",
    "# fn(1) 报错"
   ]
  },
  {
   "cell_type": "markdown",
   "metadata": {},
   "source": [
    "可变参数之后也是keyword-only参数。 keyword-only可以和默认参数一起出现，不管它有没有默认值。"
   ]
  },
  {
   "cell_type": "code",
   "execution_count": 19,
   "metadata": {},
   "outputs": [],
   "source": [
    "def fn(x=1, *, y):\n",
    "    print(x)\n",
    "    print(y)\n",
    "  "
   ]
  },
  {
   "cell_type": "markdown",
   "metadata": {},
   "source": [
    "  \n",
    "keyword-only 参数可以有默认值。*号本身不接受值。\n",
    "通常，keyword-only参数都有默认值。"
   ]
  },
  {
   "cell_type": "markdown",
   "metadata": {},
   "source": [
    "## 函数的返回值。\n",
    "\n",
    "return 语句除了返回值外，还会结束函数，return之后的语句将不再执行。\n",
    "\n",
    "当函数需要返回多个值得时候，可以把返回值封装成一个元祖。\n",
    "返回值也可以进行解构。\n",
    "\n",
    "x,y =fn()  #通过解构获取更多返回值，这就是一种解构的方法。其实是返回元祖后分别赋值。\n",
    "return None 简写为return None"
   ]
  },
  {
   "cell_type": "markdown",
   "metadata": {},
   "source": [
    "### 函数的作用域\n",
    "作用域是一个变量的可见返回叫做这个变量的作用域。"
   ]
  },
  {
   "cell_type": "code",
   "execution_count": 24,
   "metadata": {},
   "outputs": [
    {
     "ename": "UnboundLocalError",
     "evalue": "local variable 'x' referenced before assignment",
     "output_type": "error",
     "traceback": [
      "\u001b[0;31m---------------------------------------------------------------------------\u001b[0m",
      "\u001b[0;31mUnboundLocalError\u001b[0m                         Traceback (most recent call last)",
      "\u001b[0;32m<ipython-input-24-a809f6c5ff9d>\u001b[0m in \u001b[0;36m<module>\u001b[0;34m()\u001b[0m\n\u001b[1;32m      3\u001b[0m    \u001b[0mx\u001b[0m \u001b[0;34m=\u001b[0m \u001b[0mx\u001b[0m\u001b[0;34m+\u001b[0m\u001b[0;36m1\u001b[0m\u001b[0;34m\u001b[0m\u001b[0;34m\u001b[0m\u001b[0m\n\u001b[1;32m      4\u001b[0m    \u001b[0mprint\u001b[0m\u001b[0;34m(\u001b[0m\u001b[0mx\u001b[0m\u001b[0;34m)\u001b[0m\u001b[0;34m\u001b[0m\u001b[0;34m\u001b[0m\u001b[0m\n\u001b[0;32m----> 5\u001b[0;31m \u001b[0mfunc\u001b[0m\u001b[0;34m(\u001b[0m\u001b[0;34m)\u001b[0m\u001b[0;34m\u001b[0m\u001b[0;34m\u001b[0m\u001b[0m\n\u001b[0m",
      "\u001b[0;32m<ipython-input-24-a809f6c5ff9d>\u001b[0m in \u001b[0;36mfunc\u001b[0;34m()\u001b[0m\n\u001b[1;32m      1\u001b[0m \u001b[0mx\u001b[0m \u001b[0;34m=\u001b[0m\u001b[0;36m1\u001b[0m\u001b[0;34m\u001b[0m\u001b[0;34m\u001b[0m\u001b[0m\n\u001b[1;32m      2\u001b[0m \u001b[0;32mdef\u001b[0m \u001b[0mfunc\u001b[0m\u001b[0;34m(\u001b[0m\u001b[0;34m)\u001b[0m\u001b[0;34m:\u001b[0m\u001b[0;34m\u001b[0m\u001b[0;34m\u001b[0m\u001b[0m\n\u001b[0;32m----> 3\u001b[0;31m    \u001b[0mx\u001b[0m \u001b[0;34m=\u001b[0m \u001b[0mx\u001b[0m\u001b[0;34m+\u001b[0m\u001b[0;36m1\u001b[0m\u001b[0;34m\u001b[0m\u001b[0;34m\u001b[0m\u001b[0m\n\u001b[0m\u001b[1;32m      4\u001b[0m    \u001b[0mprint\u001b[0m\u001b[0;34m(\u001b[0m\u001b[0mx\u001b[0m\u001b[0;34m)\u001b[0m\u001b[0;34m\u001b[0m\u001b[0;34m\u001b[0m\u001b[0m\n\u001b[1;32m      5\u001b[0m \u001b[0mfunc\u001b[0m\u001b[0;34m(\u001b[0m\u001b[0;34m)\u001b[0m\u001b[0;34m\u001b[0m\u001b[0;34m\u001b[0m\u001b[0m\n",
      "\u001b[0;31mUnboundLocalError\u001b[0m: local variable 'x' referenced before assignment"
     ]
    }
   ],
   "source": [
    "x =1\n",
    "def func():\n",
    "   x = x+1  #\n",
    "   print(x)\n",
    "func()"
   ]
  },
  {
   "cell_type": "code",
   "execution_count": 27,
   "metadata": {},
   "outputs": [
    {
     "name": "stdout",
     "output_type": "stream",
     "text": [
      "1\n",
      "1\n"
     ]
    }
   ],
   "source": [
    "def fn():  #上级作用域对下级作用域可见\n",
    "    xx = 1\n",
    "    print(xx)\n",
    "    def inner():\n",
    "        print(xx)\n",
    "    inner()\n",
    "\n",
    "fn()"
   ]
  },
  {
   "cell_type": "code",
   "execution_count": 30,
   "metadata": {},
   "outputs": [
    {
     "name": "stdout",
     "output_type": "stream",
     "text": [
      "1\n",
      "1\n"
     ]
    }
   ],
   "source": [
    "def fn():  # 上级作用域对下级作用域是只读可见的\n",
    "    xx = 1\n",
    "    print(xx)\n",
    "    def inner():\n",
    "        xx =2  # 赋值即定义， 在下级作用域里面，重新定义了xx。\n",
    "    inner()\n",
    "    print(xx)\n",
    "fn()\n",
    "\n",
    "# 为啥第二次不输出2，因为是上级作用域对下级只读可见。在函数内部是只读可见。里面定义相当于重新定义的。\n",
    "# 不同作用域变量不可见，但是下级作用域可以对上级作用域的变量只读可见。      "
   ]
  },
  {
   "cell_type": "markdown",
   "metadata": {},
   "source": [
    "### 全局变量"
   ]
  },
  {
   "cell_type": "code",
   "execution_count": 31,
   "metadata": {},
   "outputs": [],
   "source": [
    "xx =1\n",
    "def fn():\n",
    "   global xx  # globel 可以提升变量作用域为全局变量。 \n",
    "   xx += 1\n",
    "# 不管有没有定义都可以提升。提升只是标记，并没有定义变量。"
   ]
  },
  {
   "cell_type": "code",
   "execution_count": 39,
   "metadata": {},
   "outputs": [],
   "source": [
    "def fn():\n",
    "    global zz  #global 的提升只对本作用域有用， 如果要在其他非全局变量作用域使用，也要做同样的提升。 \n",
    "    zz = 3\n",
    "    print(zz)"
   ]
  },
  {
   "cell_type": "code",
   "execution_count": 39,
   "metadata": {},
   "outputs": [],
   "source": [
    "def fn2():\n",
    "    global zz\n",
    "    zz += 1\n",
    "    print(zz)  #这时候输出4\n",
    "    "
   ]
  },
  {
   "cell_type": "markdown",
   "metadata": {},
   "source": [
    "几乎所有情况下都不适用global，平时没事别用。面试不考。\n",
    "***\n",
    "## 闭包\n",
    "\n",
    "闭包， 函数已经结束，但是函数内部部分变量的引用还存在。\n",
    "python的闭包可以用可变容器实现，这也是python2唯一的方式。 （就是装饰器。）"
   ]
  },
  {
   "cell_type": "code",
   "execution_count": 35,
   "metadata": {},
   "outputs": [
    {
     "data": {
      "text/plain": [
       "2"
      ]
     },
     "execution_count": 35,
     "metadata": {},
     "output_type": "execute_result"
    }
   ],
   "source": [
    "def counter():  #闭包\n",
    "    c = [0]\n",
    "    def inf():\n",
    "        c[0] +=1\n",
    "        return c[0]\n",
    "    return inf\n",
    "\n",
    "f = counter()\n",
    "f()\n",
    "\n",
    "c  = 100\n",
    "f()\n"
   ]
  },
  {
   "cell_type": "markdown",
   "metadata": {},
   "source": [
    "> 可变容器。下级作用域对上级只读课件。\n",
    "\n",
    "## nonlocal 关键字\n",
    "python3 "
   ]
  },
  {
   "cell_type": "code",
   "execution_count": 38,
   "metadata": {},
   "outputs": [
    {
     "data": {
      "text/plain": [
       "1"
      ]
     },
     "execution_count": 38,
     "metadata": {},
     "output_type": "execute_result"
    }
   ],
   "source": [
    "def counter():\n",
    "    x = 0\n",
    "    def inc():\n",
    "        nonlocal x  #nonlocal关键字用于标记一个变量由他的上级作用域定义，通过nonlocal标记的变量可读可写。\n",
    "        x +=1\n",
    "        return x \n",
    "    return inc\n",
    "\n",
    "f = counter()\n",
    "f()\n",
    "\n"
   ]
  },
  {
   "cell_type": "code",
   "execution_count": 41,
   "metadata": {},
   "outputs": [
    {
     "ename": "SyntaxError",
     "evalue": "no binding for nonlocal 'xxx' found (<ipython-input-41-90bfe35aa68e>, line 2)",
     "output_type": "error",
     "traceback": [
      "\u001b[0;36m  File \u001b[0;32m\"<ipython-input-41-90bfe35aa68e>\"\u001b[0;36m, line \u001b[0;32m2\u001b[0m\n\u001b[0;31m    nonlocal xxx  # 如果前面没有定义作用域就会爆出语法错误。\u001b[0m\n\u001b[0m    ^\u001b[0m\n\u001b[0;31mSyntaxError\u001b[0m\u001b[0;31m:\u001b[0m no binding for nonlocal 'xxx' found\n"
     ]
    }
   ],
   "source": [
    "def fn():\n",
    "    nonlocal xxx  # 如果前面没有定义作用域就会爆出语法错误。"
   ]
  },
  {
   "cell_type": "markdown",
   "metadata": {},
   "source": []
  },
  {
   "cell_type": "code",
   "execution_count": 42,
   "metadata": {},
   "outputs": [
    {
     "name": "stdout",
     "output_type": "stream",
     "text": [
      "[1]\n"
     ]
    },
    {
     "data": {
      "text/plain": [
       "([1],)"
      ]
     },
     "execution_count": 42,
     "metadata": {},
     "output_type": "execute_result"
    }
   ],
   "source": [
    "def fn(xxyy=[]):\n",
    "    xxyy.append(1)\n",
    "    print(xxyy)\n",
    "\n",
    "fn()\n",
    "fn.__defaults__"
   ]
  },
  {
   "cell_type": "code",
   "execution_count": 44,
   "metadata": {},
   "outputs": [
    {
     "name": "stdout",
     "output_type": "stream",
     "text": [
      "[1, 1, 1]\n"
     ]
    }
   ],
   "source": [
    "fn()  #为什么会变成[1,1],xxyy并不是全局作用域。"
   ]
  },
  {
   "cell_type": "markdown",
   "metadata": {},
   "source": [
    "函数也是对象，默认参数是函数对象的属性，所以函数参数的作用域伴随函数函数整个生命周期。\n",
    "`__defaults__`在这个属性里有个参数元祖。伴随fn的整个个生命周期。"
   ]
  },
  {
   "cell_type": "markdown",
   "metadata": {},
   "source": [
    "销毁函数变量：\n",
    "对于一个定义在全局作用域里的函数：\n",
    "    \n",
    "- 重新定义\n",
    "- del 删除\n",
    "- 程序结束退出。\n",
    "\n",
    "对于局部作用域:\n",
    "\n",
    "- 重新定义\n",
    "- del\n",
    "- 上级作用域被销毁\n",
    "\n",
    "当使用可变类型做为默认值参数默认值时，需要特别注意。 会影响后续操作。"
   ]
  },
  {
   "cell_type": "code",
   "execution_count": 46,
   "metadata": {},
   "outputs": [
    {
     "data": {
      "text/plain": [
       "(0, 0)"
      ]
     },
     "execution_count": 46,
     "metadata": {},
     "output_type": "execute_result"
    }
   ],
   "source": [
    "def fn(x=0, y=0):\n",
    "    x = 3  #赋值即定义。\n",
    "    y = 3\n",
    "\n",
    "fn.__defaults__\n"
   ]
  },
  {
   "cell_type": "markdown",
   "metadata": {},
   "source": [
    "解决方法：\n",
    "1. 使用不可变类型作为默认值\n",
    "2. 函数体内不改变默认值\n",
    "\n",
    "#使用这样方式的地方有很多。"
   ]
  },
  {
   "cell_type": "code",
   "execution_count": 50,
   "metadata": {},
   "outputs": [
    {
     "name": "stdout",
     "output_type": "stream",
     "text": [
      "[3]\n",
      "[3]\n"
     ]
    }
   ],
   "source": [
    "def fn(lst=None):\n",
    "    if lst is None:  #通常这样玩，不容易出错。\n",
    "        lst = []\n",
    "#     else:\n",
    "#         lst = lst[:]  #存在影子copy问题。\n",
    "    lst.append(3)   #如果传入的参数是非None,那么改变了传入参数。\n",
    "    print(lst)\n",
    "fn.__defaults__\n",
    "fn()\n",
    "fn()"
   ]
  },
  {
   "cell_type": "markdown",
   "metadata": {},
   "source": [
    "通常如果使用一个可变类型作为默认参数时，会使用None来代替。这样不容易出现问题。\n",
    "***\n",
    "## 函数执行流程\n",
    "当调用函数的时候，解释器会把当前现场压堆栈，然后执行被调函数，被掉函数执行完成，解释器弹出当前栈顶。恢复现场。\n",
    "\n",
    "***"
   ]
  },
  {
   "cell_type": "markdown",
   "metadata": {},
   "source": [
    "## 递归函数\n",
    "为了保护解释器，python最大递归深度有限制。一定要有退出条件。\n",
    "\n",
    "`sys.gettrecursionlimit()`  默认最大递归深度1000,最小26。一般没人修改。\n",
    "绝对大多数的递归可以转化为循环。"
   ]
  },
  {
   "cell_type": "markdown",
   "metadata": {},
   "source": [
    "## 匿名函数"
   ]
  },
  {
   "cell_type": "code",
   "execution_count": 53,
   "metadata": {},
   "outputs": [
    {
     "data": {
      "text/plain": [
       "4"
      ]
     },
     "execution_count": 53,
     "metadata": {},
     "output_type": "execute_result"
    }
   ],
   "source": [
    "(lambda x:x +1)\n",
    "(lambda x:x+1)(3) #第一个括号用来改变优先级，第二对括号表示函数调用。"
   ]
  },
  {
   "cell_type": "markdown",
   "metadata": {},
   "source": [
    "- lambda 来定义\n",
    "- 参数列表不需要使用小括号\n",
    "- 冒号不是用来开启新语句块\n",
    "- 没有return，最后一个表达式的值即返回值"
   ]
  },
  {
   "cell_type": "code",
   "execution_count": null,
   "metadata": {},
   "outputs": [],
   "source": [
    "f = lambda x:x+1\n",
    "f = lambda x:if x <0:"
   ]
  },
  {
   "cell_type": "markdown",
   "metadata": {},
   "source": [
    "**匿名函数(lambda表达式)只能写在一行上，所以也有人叫它单行函数。**"
   ]
  },
  {
   "cell_type": "code",
   "execution_count": 54,
   "metadata": {},
   "outputs": [
    {
     "data": {
      "text/plain": [
       "8"
      ]
     },
     "execution_count": 54,
     "metadata": {},
     "output_type": "execute_result"
    }
   ],
   "source": [
    "(lambda x ,y = 3: x+y)(5)"
   ]
  },
  {
   "cell_type": "code",
   "execution_count": 57,
   "metadata": {},
   "outputs": [
    {
     "name": "stdout",
     "output_type": "stream",
     "text": [
      "(0, 1, 2) {'0': 0, '1': 1, '2': 2}\n"
     ]
    }
   ],
   "source": [
    "(lambda *args:args)(*range(3))\n",
    "(lambda *args, **kwargs: print(args, kwargs))(*range(3), **{str(x):x for x in range(3)})"
   ]
  },
  {
   "cell_type": "code",
   "execution_count": null,
   "metadata": {},
   "outputs": [],
   "source": [
    "普通函数参数定义时候支持的参数的变化，匿名函数都支持。\n",
    "匿名函数通常用语告诫函数的参数，当此函数非常短小的时候，就适合使用匿名函数。超过两个表达式才能搞定的东西就不用匿名。\n",
    "    js ，java8的匿名函数很屌。\n",
    "    \n",
    "讲了 filter map."
   ]
  },
  {
   "cell_type": "code",
   "execution_count": 58,
   "metadata": {},
   "outputs": [
    {
     "ename": "NameError",
     "evalue": "name 'users' is not defined",
     "output_type": "error",
     "traceback": [
      "\u001b[0;31m---------------------------------------------------------------------------\u001b[0m",
      "\u001b[0;31mNameError\u001b[0m                                 Traceback (most recent call last)",
      "\u001b[0;32m<ipython-input-58-0dfc80b703b1>\u001b[0m in \u001b[0;36m<module>\u001b[0;34m()\u001b[0m\n\u001b[0;32m----> 1\u001b[0;31m \u001b[0mlist\u001b[0m\u001b[0;34m(\u001b[0m\u001b[0mfilter\u001b[0m\u001b[0;34m(\u001b[0m\u001b[0;32mlambda\u001b[0m \u001b[0mx\u001b[0m\u001b[0;34m:\u001b[0m\u001b[0mx\u001b[0m\u001b[0;34m.\u001b[0m\u001b[0mage\u001b[0m \u001b[0;34m<\u001b[0m \u001b[0;36m30\u001b[0m\u001b[0;34m,\u001b[0m \u001b[0musers\u001b[0m\u001b[0;34m)\u001b[0m\u001b[0;34m)\u001b[0m\u001b[0;34m\u001b[0m\u001b[0;34m\u001b[0m\u001b[0m\n\u001b[0m",
      "\u001b[0;31mNameError\u001b[0m: name 'users' is not defined"
     ]
    }
   ],
   "source": [
    "def map_(fn, it):\n",
    "    return (fn(x) for x in  it)\n",
    "def filter_(fn, it):\n",
    "    return (x for x in it if fn(x))\n"
   ]
  },
  {
   "cell_type": "markdown",
   "metadata": {},
   "source": [
    "***\n",
    "## 生成器\n",
    "\n",
    "生成器, 特殊的迭代器。"
   ]
  },
  {
   "cell_type": "code",
   "execution_count": 62,
   "metadata": {},
   "outputs": [
    {
     "data": {
      "text/plain": [
       "0"
      ]
     },
     "execution_count": 62,
     "metadata": {},
     "output_type": "execute_result"
    }
   ],
   "source": [
    "def g():\n",
    "    for x in range(10):\n",
    "        yield x   #yield 表示弹出一个值\n",
    "\n",
    "r = g() # 表面上函数执行完成，函数的县城应该已经被销毁了，但是事实上，函数体并没有被销毁。\n",
    "r \n",
    "next(r)"
   ]
  },
  {
   "cell_type": "markdown",
   "metadata": {},
   "source": [
    "**执行生成器函数的时候，函数体并没有被执行。**\n",
    "\n",
    "next() 每次都执行到yield之前。当不能yield的时候。 抛出StopIteration异常，异常的值正好是返回值\n",
    "\n",
    "带yield语句的函数称为生成器函数，生成器函数的返回值是生成器。\n",
    "* 生成器函数执行的时候，不会执行函数体。\n",
    "* 当next生成器的时候，当前代码执行到之后的第一个yield，会弹出值，并且暂停函数\n",
    "* 当再次next生成器的时候，从上次暂停处开始往下执行。\n",
    "* 当没有多余的yield到时候，会抛出StopIteration异常，异常的value是函数的返回值\n",
    "\n",
    "\n",
    "官方的异步IO都是基于生成器做的。 生成器是惰性求值的。 非抢占式调度。tornado也是。异步编程时会具体讲。底层是C代码/"
   ]
  },
  {
   "cell_type": "code",
   "execution_count": 65,
   "metadata": {},
   "outputs": [
    {
     "data": {
      "text/plain": [
       "1"
      ]
     },
     "execution_count": 65,
     "metadata": {},
     "output_type": "execute_result"
    }
   ],
   "source": [
    "def make_inc():\n",
    "    def counter():\n",
    "        x  = 0\n",
    "        while True:\n",
    "            x +=1\n",
    "            yield x \n",
    "    c = counter()\n",
    "    return lambda:next(c)  # 返回了一个函数，之后每次都调用这个函数。是一种面向对象的思想。\n",
    "#     return next(c)  # 如果这样写每次执行，每次都是新的生成器。\n",
    "incr = make_inc()\n",
    "incr()"
   ]
  },
  {
   "cell_type": "markdown",
   "metadata": {},
   "source": [
    "以上是生成器的普通用法。\n",
    "协程 -- 生成器的高级用法\n",
    "\n",
    "协程运行在一个线程之内，在用户态。需要用户写自己的用户态调度。协程也叫轻量线程。\n",
    "\n",
    "简单的说，调度就是由调度器来决定哪段代码占用cpu时间。\n",
    "3.5python官方实现了调度器，async await两个关键字决定。基于yield。"
   ]
  },
  {
   "cell_type": "markdown",
   "metadata": {},
   "source": [
    "***\n",
    "\n",
    "## 高阶函数\n",
    "\n",
    "返回函数或者参数是函数的函数 -- 高阶函数\n",
    "\n",
    "**因为python中函数是一等对象（first class）， 函数也是对象，并且它可以像普通对象一样赋值，作为参数，作为返回值。 **\n",
    "插入排序。\n",
    "    \n",
    "    - 函数作为返回值：通常是用于闭包的场景，需要封装一些变量。\n",
    "    - 函数作为参数：通常用于大多数逻辑固定，少部分逻辑不固定的场景。\n",
    "    - 函数作为参数，返回值也是参数：通常用于作为参数函数执行前后会一些额外的操作。\n",
    "  "
   ]
  },
  {
   "cell_type": "code",
   "execution_count": 1,
   "metadata": {},
   "outputs": [
    {
     "name": "stdout",
     "output_type": "stream",
     "text": [
      "6\n",
      "8\n"
     ]
    }
   ],
   "source": [
    "# 函数作为返回值\n",
    "#不希望有人修改base，还希望在conuter函数结束是变量还存在。\n",
    "def counter(base):\n",
    "    def inc(x=1):\n",
    "        nonlocal base\n",
    "        base += x\n",
    "        return base\n",
    "    return inc\n",
    "inc = counter(3)\n",
    "print(inc(3))\n",
    "print(inc(2))"
   ]
  },
  {
   "cell_type": "code",
   "execution_count": 71,
   "metadata": {},
   "outputs": [
    {
     "data": {
      "text/plain": [
       "[1455, 5, 5, 5, 4, 3, 3, 2, 1, 1]"
      ]
     },
     "execution_count": 71,
     "metadata": {},
     "output_type": "execute_result"
    }
   ],
   "source": [
    "# 参数是函数。\n",
    "def cmp(a,b):\n",
    "    return a < b\n",
    "\n",
    "def sort(it, cmp=lambda a, b : a>b): # 插入排序，传入一个函数,就不用写上面的例外函数了，优雅。\n",
    "    ret = []\n",
    "    for x in it:\n",
    "        for i ,e in enumerate(ret):\n",
    "            if cmp(x,e):\n",
    "                ret.insert(i, x)\n",
    "                break\n",
    "        else:\n",
    "            ret.append(x)\n",
    "    return ret\n",
    "\n",
    "\n",
    "sort([1,3,4,2,5,3,5,1,5,1455], cmp=lambda a, b:a>b)"
   ]
  },
  {
   "cell_type": "code",
   "execution_count": 63,
   "metadata": {},
   "outputs": [],
   "source": [
    "# 函数作为参数，返回值也是函数。\n",
    "def logger(fn): #函数作为返回值，封装了fn。\n",
    "    def wrap(*args, **kwargs):\n",
    "        print('call {}'.format(fn.__name__))\n",
    "        ret = fn(*args, **kwargs)\n",
    "        print('{} called.'.format(fn.__name__))\n",
    "        return ret\n",
    "    return wrap\n",
    "\n",
    "\n",
    "def add(x,y):\n",
    "    return x =y\n",
    "\n",
    "logged_add = logger(add)\n",
    "logged_add(3, 5)\n",
    "# 3,5 传递到wrap的args中然后程一个tuple，参数解构传入到fn中。\n",
    "装饰器：\n",
    "    参数是函数，返回值是一个函数的函数，就可称为装饰器。"
   ]
  },
  {
   "cell_type": "code",
   "execution_count": 63,
   "metadata": {},
   "outputs": [
    {
     "ename": "SyntaxError",
     "evalue": "invalid syntax (<ipython-input-63-9bc9fc543432>, line 12)",
     "output_type": "error",
     "traceback": [
      "\u001b[0;36m  File \u001b[0;32m\"<ipython-input-63-9bc9fc543432>\"\u001b[0;36m, line \u001b[0;32m12\u001b[0m\n\u001b[0;31m    ***\u001b[0m\n\u001b[0m     ^\u001b[0m\n\u001b[0;31mSyntaxError\u001b[0m\u001b[0;31m:\u001b[0m invalid syntax\n"
     ]
    }
   ],
   "source": [
    "    装饰器的应用\n",
    "    写一个装饰器允许过期，但没有换出，没有清除。\n",
    "\n",
    "    写一个命令分发器，用户输入指令，执行相应的函数。、\n",
    "\n",
    "    - cache装饰器，使用inspect库。\n",
    "\n",
    "\n",
    "程序员可以方便的注册函数到某个命令，当用户输入某个命令时，路由到注册的函数，如果此命令没有注册函数，执行默认函数。\n",
    "15.3讲functools.wrapper--- 柯里化的应用。\n",
    "15.4带参数的装饰器。python的类型注解。\n",
    "15.5 类型注解可以提供给第三方工具。在IDE里可以配置进行代码审查。\n",
    "在python3.5之前只能用参数和返回值上。\n",
    "15,6 \n",
    "functools.partial函数用于函数中固定一个或若干个参数。函数作为参数，对这个参数的参数列表是有限制的。\n",
    "    用途：想给某一个函数做默认值。但又没办法直接修改那个函数。\n",
    "functools.lru_cache 直接缓存入进程，作为一集 使用场景\n",
    "    不需要过期，\n",
    "    不需要清除， 不需要分布式  函数必须是无副作用的，这事就可以使用lru_cache.\n",
    "    \n",
    "自己写一个cache装饰器，实现可过期，可清除，不换出，\n",
    "    写一个命令分发器，用户输入不同的命令，执行不同的函数。\n",
    " 命令分发器。\n",
    "16.6 装饰器的主要用途，面向方面的编程。AOP。\n",
    "    针对一类问题，与具体业务逻辑无关。常见的装饰器使用场景：监控，缓存，路由，权限，参数检查，审计。\n",
    "以上第五周。\n",
    "\n",
    "***********"
   ]
  },
  {
   "cell_type": "code",
   "execution_count": null,
   "metadata": {},
   "outputs": [],
   "source": []
  },
  {
   "cell_type": "code",
   "execution_count": null,
   "metadata": {},
   "outputs": [],
   "source": []
  },
  {
   "cell_type": "code",
   "execution_count": null,
   "metadata": {},
   "outputs": [],
   "source": []
  }
 ],
 "metadata": {
  "kernelspec": {
   "display_name": "Python 3",
   "language": "python",
   "name": "python3"
  },
  "language_info": {
   "codemirror_mode": {
    "name": "ipython",
    "version": 3
   },
   "file_extension": ".py",
   "mimetype": "text/x-python",
   "name": "python",
   "nbconvert_exporter": "python",
   "pygments_lexer": "ipython3",
   "version": "3.7.2"
  }
 },
 "nbformat": 4,
 "nbformat_minor": 2
}
