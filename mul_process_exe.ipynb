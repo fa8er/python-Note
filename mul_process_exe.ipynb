{
 "cells": [
  {
   "cell_type": "markdown",
   "metadata": {},
   "source": [
    "# 多进程编程 \n",
    "\n",
    "jupyter 演示出来的内容不是很准确,自己使用命令行测试要好一些."
   ]
  },
  {
   "cell_type": "code",
   "execution_count": 1,
   "metadata": {},
   "outputs": [
    {
     "name": "stdout",
     "output_type": "stream",
     "text": [
      "Worker\n",
      "Worker\n",
      "Worker\n",
      "Worker\n",
      "Worker\n"
     ]
    }
   ],
   "source": [
    "import multiprocessing \n",
    " \n",
    "def worker():\n",
    "    print('Worker')\n",
    "\n",
    "if __name__ == '__main__':\n",
    "    jobs = []\n",
    "    for i in range(5):\n",
    "        p = multiprocessing.Process(target=worker)\n",
    "        jobs.append(p)\n",
    "        p.start()\n"
   ]
  },
  {
   "cell_type": "code",
   "execution_count": 2,
   "metadata": {},
   "outputs": [
    {
     "ename": "SyntaxError",
     "evalue": "invalid syntax (<ipython-input-2-62cbc23b26ca>, line 1)",
     "output_type": "error",
     "traceback": [
      "\u001b[0;36m  File \u001b[0;32m\"<ipython-input-2-62cbc23b26ca>\"\u001b[0;36m, line \u001b[0;32m1\u001b[0m\n\u001b[0;31m    > 目标函数可传入参数\u001b[0m\n\u001b[0m    ^\u001b[0m\n\u001b[0;31mSyntaxError\u001b[0m\u001b[0;31m:\u001b[0m invalid syntax\n"
     ]
    }
   ],
   "source": [
    "> 目标函数可传入参数"
   ]
  },
  {
   "cell_type": "code",
   "execution_count": 4,
   "metadata": {},
   "outputs": [
    {
     "name": "stdout",
     "output_type": "stream",
     "text": [
      "Worker:0\n",
      "Worker:1\n",
      "Worker:2\n",
      "Worker:3\n",
      "Worker:4\n"
     ]
    }
   ],
   "source": [
    "import multiprocessing \n",
    "def worker(num):\n",
    "    print(f'Worker:{num}')\n",
    "\n",
    "if __name__ == '__main__':\n",
    "    jobs = []\n",
    "    for i in range(5):\n",
    "        p = multiprocessing.Process(target=worker, args=(i,))\n",
    "        jobs.append(p)\n",
    "        p.start()\n",
    "        "
   ]
  },
  {
   "cell_type": "code",
   "execution_count": 24,
   "metadata": {},
   "outputs": [],
   "source": [
    "import multiprocessing \n",
    "import time \n",
    "\n",
    "def daemon():\n",
    "    p = multiprocessing.current_process()\n",
    "    print(f'Starting: {p.name} {p.pid}')\n",
    "    time.sleep(2)\n",
    "    print('Exiting:' , p.name, p.pid)\n",
    "\n",
    "def non_daemon():\n",
    "    p = multiprocessing.current_process()\n",
    "    print(f'Starting:  {p.name}  {p.pid}')\n",
    "        \n",
    "    print('Exiting : ', p.name, p.pid)\n",
    "\n",
    "if __name__ == '__main__':\n",
    "    d = multiprocessing.Process(\n",
    "        name = 'daemon',\n",
    "        target = daemon,\n",
    "        daemon = True\n",
    "    )\n",
    "    \n",
    "    n = multiprocessing.Process(\n",
    "        name = 'non-daemon',\n",
    "        target = non_daemon,\n",
    "    )\n",
    "    \n",
    "    d.start()\n",
    "    time.sleep(3)\n",
    "    n.start()"
   ]
  },
  {
   "cell_type": "code",
   "execution_count": 24,
   "metadata": {},
   "outputs": [
    {
     "name": "stdout",
     "output_type": "stream",
     "text": [
      "Starting: daemon 1772\n",
      "Exiting: daemon 1772\n",
      "Starting:  non-daemon  1773\n",
      "Exiting :  non-daemon 1773\n"
     ]
    }
   ],
   "source": [
    "默认情况,子进程不死,主进程不死. 设定成守护进程后, 主进程死,子进程死.\n",
    "    \n",
    "    \n",
    "    "
   ]
  },
  {
   "cell_type": "code",
   "execution_count": 42,
   "metadata": {},
   "outputs": [
    {
     "name": "stdout",
     "output_type": "stream",
     "text": [
      "Starting: daemon 1832\n",
      "住\n",
      "d.is_alive() True\n",
      "Starging: non-daemon 1833\n",
      "Exiting: non-daemon 1833\n",
      "Exiting: daemon 1832\n"
     ]
    }
   ],
   "source": [
    "import multiprocessing\n",
    "import time\n",
    "\n",
    "def daemon():\n",
    "    p = multiprocessing.current_process()\n",
    "    print(f'Starting: {p.name} {p.pid}')\n",
    "    time.sleep(10)\n",
    "    print('Exiting:', p.name, p.pid)\n",
    "    \n",
    "def non_daemon():\n",
    "    p = multiprocessing.current_process()\n",
    "    print(f'Starging: {p.name} {p.pid}')\n",
    "    print('Exiting:', p.name, p.pid)\n",
    "    \n",
    "if __name__ == '__main__':\n",
    "    d = multiprocessing.Process(\n",
    "        name = 'daemon',\n",
    "        target=daemon,\n",
    "\n",
    "    ) \n",
    "    d.daemon= True\n",
    "    \n",
    "    n = multiprocessing.Process(\n",
    "        name = 'non-daemon',\n",
    "        target=non_daemon,\n",
    "    ) \n",
    "    n.daemon = False\n",
    "    \n",
    "    d.start()\n",
    "    time.sleep(1)\n",
    "    n.start()\n",
    "    print('住')\n",
    "    \n",
    "    \n",
    "     \n",
    "\n",
    "#     d.join()\n",
    "#     n.join()\n",
    "\n",
    "    print('d.is_alive()', d.is_alive())\n",
    "# 使用 join 会等待守护进程完成。子进程会在 join 前返回结果."
   ]
  },
  {
   "cell_type": "code",
   "execution_count": null,
   "metadata": {},
   "outputs": [],
   "source": []
  },
  {
   "cell_type": "code",
   "execution_count": null,
   "metadata": {},
   "outputs": [],
   "source": []
  }
 ],
 "metadata": {
  "kernelspec": {
   "display_name": "Python 3",
   "language": "python",
   "name": "python3"
  },
  "language_info": {
   "codemirror_mode": {
    "name": "ipython",
    "version": 3
   },
   "file_extension": ".py",
   "mimetype": "text/x-python",
   "name": "python",
   "nbconvert_exporter": "python",
   "pygments_lexer": "ipython3",
   "version": "3.7.2"
  }
 },
 "nbformat": 4,
 "nbformat_minor": 2
}
