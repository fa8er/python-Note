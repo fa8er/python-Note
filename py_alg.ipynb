{
 "cells": [
  {
   "cell_type": "markdown",
   "metadata": {},
   "source": [
    "python 魔术方法是什么？\n",
    "A：在python中所有双下滑线开始和结尾的方法。都叫魔术方法。\n",
    "\n",
    "Q: 调用len()的是时候发生了什么？\n",
    "A：调用`len(str)`的时候其实调用的`str.__len__()`方法。"
   ]
  },
  {
   "cell_type": "markdown",
   "metadata": {},
   "source": [
    "## 线性解构\n",
    "\n",
    "特点： 1.内存连续 3. 下标访问"
   ]
  },
  {
   "cell_type": "code",
   "execution_count": 1,
   "metadata": {},
   "outputs": [],
   "source": [
    "python 有内置类型 array  只能存放同一类型。数字和字符。\n",
    "\n",
    "from array import array\n",
    "\n",
    "list 的工作原理：及操作。看cpython实现。\n",
    "创建 O（1）\n",
    "append 时候新分配内存空间。如果第一次分配空间不够，会重新分配内存空间。 第一次4个， 第二次0～8 resize  16  25 \n",
    "\n"
   ]
  },
  {
   "cell_type": "markdown",
   "metadata": {},
   "source": [
    "insert O（n）\n",
    "\n",
    "remove （n） 频繁的进行insert 和remove就成（）\n",
    "\n",
    "\n",
    "\n",
    "Q：实现一个定长的数组：\n",
    "\n",
    "\n",
    "__iter__()方法，用来遍历。\n",
    "__setitem__() 方法。\n",
    "__getitem__() 方法。\n",
    "首先，实现不变容器的话有一个协议:实现不可变容器，你只能定义 __len__ 和 __getitem__ (一会会讲更多)。\n",
    "可变容器协议则需要所有不可变容器的所有另外还需要 __setitem__ 和 __delitem__ 。\n",
    "最终，如果你希望你的对象是可迭代的话，你需要定义 __iter__ 会返回一个迭代器。\n",
    "迭代器必须遵循迭代器协议，需要有 __iter__ (返回它本身) 和 next 。"
   ]
  },
  {
   "cell_type": "code",
   "execution_count": 6,
   "metadata": {},
   "outputs": [],
   "source": [
    "class Array():\n",
    "    def __init__(self, size=32):\n",
    "        self._size = size\n",
    "        self._items = [None] * size\n",
    "    def __getitem__(self, index):   \n",
    "        return self._items[index]\n",
    "    def __setitem__(self, index, value):\n",
    "        self._items[index] = value\n",
    "    def __len__(self):\n",
    "        return self._size\n",
    "    def clean(self, value=None):\n",
    "        for i in range(len(self._items)):\n",
    "            self._items[i] = value\n",
    "            \n",
    "    def __iter__(self):\n",
    "        for item in self._items:\n",
    "            yield item\n",
    "            \n",
    "def test_array():\n",
    "    size = 10 \n",
    "    a = Array(size)\n",
    "    a[0] = 1\n",
    "    a.clearn()\n",
    "    assert a[0] is None"
   ]
  },
  {
   "cell_type": "code",
   "execution_count": 7,
   "metadata": {},
   "outputs": [],
   "source": [
    "x=Array(4)\n"
   ]
  },
  {
   "cell_type": "code",
   "execution_count": 8,
   "metadata": {},
   "outputs": [
    {
     "data": {
      "text/plain": [
       "4"
      ]
     },
     "execution_count": 8,
     "metadata": {},
     "output_type": "execute_result"
    }
   ],
   "source": [
    "len(x)"
   ]
  },
  {
   "cell_type": "code",
   "execution_count": 15,
   "metadata": {},
   "outputs": [
    {
     "name": "stdout",
     "output_type": "stream",
     "text": [
      "<__main__.Array object at 0x10fd345c0>\n"
     ]
    }
   ],
   "source": [
    "x[0]=4\n",
    "print(x)"
   ]
  },
  {
   "cell_type": "code",
   "execution_count": 16,
   "metadata": {},
   "outputs": [
    {
     "name": "stdout",
     "output_type": "stream",
     "text": [
      "4\n"
     ]
    }
   ],
   "source": [
    "print(x[0])"
   ]
  },
  {
   "cell_type": "code",
   "execution_count": 9,
   "metadata": {},
   "outputs": [
    {
     "name": "stdout",
     "output_type": "stream",
     "text": [
      "None\n"
     ]
    }
   ],
   "source": [
    "print(x.__len__())"
   ]
  },
  {
   "cell_type": "markdown",
   "metadata": {},
   "source": [
    "***\n",
    "\n",
    "## 单链表\n",
    "\n",
    "\n",
    "线性表： 内存连续，下标访问\n",
    "链表： 不连续，无[], append "
   ]
  },
  {
   "cell_type": "code",
   "execution_count": 24,
   "metadata": {},
   "outputs": [
    {
     "name": "stdout",
     "output_type": "stream",
     "text": [
      "[3, 4, 5, 6]\n"
     ]
    }
   ],
   "source": [
    "# -*- coding: utf-8 -*-\n",
    "\n",
    "\n",
    "class Node(object):\n",
    "    def __init__(self, value=None, next=None):   # 这里我们 root 节点默认都是 None，所以都给了默认值\n",
    "        self.value = value\n",
    "        self.next = next\n",
    "\n",
    "    def __str__(self):\n",
    "        \"\"\"方便你打出来调试，复杂的代码可能需要断点调试\"\"\"\n",
    "        return '<Node: value: {}, next={}>'.format(self.value, self.next)\n",
    "\n",
    "    __repr__ = __str__\n",
    "\n",
    "\n",
    "class LinkedList(object):\n",
    "    \"\"\" 链接表 ADT\n",
    "    [root] -> [node0] -> [node1] -> [node2]\n",
    "    \"\"\"\n",
    "\n",
    "    def __init__(self, maxsize=None):\n",
    "        \"\"\"\n",
    "        :param maxsize: int or None, 如果是 None，无限扩充\n",
    "        \"\"\"\n",
    "        self.maxsize = maxsize\n",
    "        self.root = Node()     # 默认 root 节点指向 None\n",
    "        self.tailnode = None\n",
    "        self.length = 0\n",
    "\n",
    "    def __len__(self):\n",
    "        return self.length\n",
    "\n",
    "    def append(self, value):    # O(1)\n",
    "        if self.maxsize is not None and len(self) >= self.maxsize:\n",
    "            raise Exception('LinkedList is Full')\n",
    "        node = Node(value)    # 构造节点\n",
    "        tailnode = self.tailnode\n",
    "        if tailnode is None:    # 还没有 append 过，length = 0， 追加到 root 后\n",
    "            self.root.next = node\n",
    "        else:     # 否则追加到最后一个节点的后边，并更新最后一个节点是 append 的节点\n",
    "            tailnode.next = node\n",
    "        self.tailnode = node\n",
    "        self.length += 1\n",
    "\n",
    "    def appendleft(self, value):\n",
    "        if self.maxsize is not None and len(self) >= self.maxsize:\n",
    "            raise Exception('LinkedList is Full')\n",
    "        node = Node(value)\n",
    "        if self.tailnode is None:  # 如果原链表为空，插入第一个元素需要设置 tailnode\n",
    "            self.tailnode = node\n",
    "\n",
    "        headnode = self.root.next\n",
    "        self.root.next = node\n",
    "        node.next = headnode\n",
    "        self.length += 1\n",
    "\n",
    "    def __iter__(self):\n",
    "        for node in self.iter_node():\n",
    "            yield node.value\n",
    "\n",
    "    def iter_node(self):\n",
    "        \"\"\"遍历 从 head 节点到 tail 节点\"\"\"\n",
    "        curnode = self.root.next\n",
    "        while curnode is not self.tailnode:    # 从第一个节点开始遍历\n",
    "            yield curnode\n",
    "            curnode = curnode.next    # 移动到下一个节点\n",
    "        if curnode is not None:\n",
    "            yield curnode\n",
    "\n",
    "    def remove(self, value):    # O(n)\n",
    "        \"\"\" 删除包含值的一个节点，将其前一个节点的 next 指向被查询节点的下一个即可\n",
    "        :param value:\n",
    "        \"\"\"\n",
    "        prevnode = self.root    #\n",
    "        for curnode in self.iter_node():\n",
    "            if curnode.value == value:\n",
    "                prevnode.next = curnode.next\n",
    "                if curnode is self.tailnode:  # NOTE: 注意更新 tailnode\n",
    "                    if prevnode is self.root:\n",
    "                        self.tailnode = None\n",
    "                    else:\n",
    "                        self.tailnode = prevnode\n",
    "                del curnode\n",
    "                self.length -= 1\n",
    "                return 1  # 表明删除成功\n",
    "            else:\n",
    "                prevnode = curnode\n",
    "        return -1  # 表明删除失败\n",
    "\n",
    "    def find(self, value):    # O(n)\n",
    "        \"\"\" 查找一个节点，返回序号，从 0 开始\n",
    "        :param value:\n",
    "        \"\"\"\n",
    "        index = 0\n",
    "        for node in self.iter_node():   # 我们定义了 __iter__，这里就可以用 for 遍历它了\n",
    "            if node.value == value:\n",
    "                return index\n",
    "            index += 1\n",
    "        return -1    # 没找到\n",
    "\n",
    "    def popleft(self):    # O(1)\n",
    "        \"\"\" 删除第一个链表节点\n",
    "        \"\"\"\n",
    "        if self.root.next is None:\n",
    "            raise Exception('pop from empty LinkedList')\n",
    "        headnode = self.root.next\n",
    "        self.root.next = headnode.next\n",
    "        self.length -= 1\n",
    "        value = headnode.value\n",
    "\n",
    "        if self.tailnode is headnode:   # 勘误：增加单节点删除 tailnode 处理\n",
    "            self.tailnode = None\n",
    "        del headnode\n",
    "        return value\n",
    "\n",
    "    def clear(self):\n",
    "        for node in self.iter_node():\n",
    "            del node\n",
    "        self.root.next = None\n",
    "        self.length = 0\n",
    "        self.tailnode = None\n",
    "\n",
    "    def reverse(self):\n",
    "        \"\"\"反转链表\"\"\"\n",
    "        curnode = self.root.next\n",
    "        self.tailnode = curnode  # 记得更新 tailnode，多了这个属性处理起来经常忘记\n",
    "        prevnode = None\n",
    "\n",
    "        while curnode:\n",
    "            nextnode = curnode.next\n",
    "            curnode.next = prevnode\n",
    "\n",
    "            if nextnode is None:\n",
    "                self.root.next = curnode\n",
    "\n",
    "            prevnode = curnode\n",
    "            curnode = nextnode\n",
    "\n",
    "\n",
    "def test_linked_list():\n",
    "    ll = LinkedList()\n",
    "\n",
    "    ll.append(0)\n",
    "    ll.append(1)\n",
    "    ll.append(2)\n",
    "    ll.append(3)\n",
    "\n",
    "    assert len(ll) == 4\n",
    "    assert ll.find(2) == 2\n",
    "    assert ll.find(-1) == -1\n",
    "\n",
    "    assert ll.remove(0) == 1\n",
    "    assert ll.remove(10) == -1\n",
    "    assert ll.remove(2) == 1\n",
    "    assert len(ll) == 2\n",
    "    assert list(ll) == [1, 3]\n",
    "    assert ll.find(0) == -1\n",
    "\n",
    "    ll.appendleft(0)\n",
    "    assert list(ll) == [0, 1, 3]\n",
    "    assert len(ll) == 3\n",
    "\n",
    "    headvalue = ll.popleft()\n",
    "    assert headvalue == 0\n",
    "    assert len(ll) == 2\n",
    "    assert list(ll) == [1, 3]\n",
    "\n",
    "    assert ll.popleft() == 1\n",
    "    assert list(ll) == [3]\n",
    "    ll.popleft()\n",
    "    assert len(ll) == 0\n",
    "    assert ll.tailnode is None\n",
    "\n",
    "    ll.clear()\n",
    "    assert len(ll) == 0\n",
    "    assert list(ll) == []\n",
    "\n",
    "\n",
    "def test_linked_list_remove():\n",
    "    ll = LinkedList()\n",
    "    ll.append(3)\n",
    "    ll.append(4)\n",
    "    ll.append(5)\n",
    "    ll.append(6)\n",
    "    ll.append(7)\n",
    "    ll.remove(7)\n",
    "    print(list(ll))\n",
    "\n",
    "def test_single_node():\n",
    "    # https://github.com/PegasusWang/python_data_structures_and_algorithms/pull/21\n",
    "    ll = LinkedList()\n",
    "    ll.append(0)\n",
    "    ll.remove(0)\n",
    "    ll.appendleft(1)\n",
    "    assert list(ll) == [1]\n",
    "\n",
    "def test_linked_list_reverse():\n",
    "    ll = LinkedList()\n",
    "    n = 10\n",
    "    for i in range(n):\n",
    "        ll.append(i)\n",
    "    ll.reverse()\n",
    "    assert list(ll) == list(reversed(range(n)))\n",
    "\n",
    "\n",
    "def test_linked_list_append():\n",
    "    ll = LinkedList()\n",
    "    ll.appendleft(1)\n",
    "    ll.append(2)\n",
    "    assert list(ll) == [1, 2]\n",
    "\n",
    "\n",
    "if __name__ == '__main__':\n",
    "    test_single_node()\n",
    "    test_linked_list()\n",
    "    test_linked_list_remove()\n",
    "    test_linked_list_append()\n",
    "    test_linked_list_reverse()"
   ]
  },
  {
   "cell_type": "markdown",
   "metadata": {},
   "source": [
    "***\n",
    "## 循环双链表"
   ]
  },
  {
   "cell_type": "code",
   "execution_count": 37,
   "metadata": {},
   "outputs": [],
   "source": [
    "class  Node(object):\n",
    "    __slots__ = ('value', 'prev', 'next')\n",
    "    def __init__(self ,value=None, prev=None, next=None):\n",
    "        self.value, self.prev, self.next = value, prev, next\n",
    " "
   ]
  },
  {
   "cell_type": "markdown",
   "metadata": {},
   "source": [
    "提前定义几个概念：根节点，rootnode 头节点，headnode 头节点是根的下一个。 尾节点。tailnode\n",
    "\n",
    "appleft是插入到rootnode的下一个节点。也就是在原始root和head中间插入值。"
   ]
  },
  {
   "cell_type": "code",
   "execution_count": 48,
   "metadata": {},
   "outputs": [
    {
     "name": "stdout",
     "output_type": "stream",
     "text": [
      "ok\n"
     ]
    }
   ],
   "source": [
    "\n",
    "\n",
    "class CircularDoubleLinkedList(object):\n",
    "    \n",
    "    def __init__(self, maxsize=None):\n",
    "        self.maxsize = maxsize\n",
    "        node = Node()\n",
    "        node.next, node.prev = node, node\n",
    "        self.root = node \n",
    "        self.length = 0 \n",
    "    \n",
    "    def __len__(self):\n",
    "        return self.length\n",
    "    \n",
    "    def headnode(self):\n",
    "        return self.root.next\n",
    "    \n",
    "    def tailnode(self):\n",
    "        return self.root.prev\n",
    "    \n",
    "    def append(self, value): \n",
    "        if self.maxsize is not None and len(self) >= self.maxsize:\n",
    "            raise Exption('LinkedList is Full')\n",
    "        node = Node(value=value)\n",
    "        tailnode = self.tailnode() or self.root\n",
    "        \n",
    "        tailnode.next = node   #赋值改4次。\n",
    "        node.prev = tailnode \n",
    "        node.next = self.root\n",
    "        self.root.prev = node \n",
    "        self.length +=1\n",
    "        \n",
    "    def appendleft(self, value):\n",
    "        if self.maxsize is not None and len(self) >=self.maxsize:\n",
    "            raise Exception('LinkedList is Full')\n",
    "        node = Node(value=value)\n",
    "        if self.root.next is self.root:\n",
    "            node.next = self.root\n",
    "            node.prev = self.root\n",
    "            self.root.next =node \n",
    "            self.root.prev = node\n",
    "        else:\n",
    "            node.prev= self.root\n",
    "            headnode = self.root.next\n",
    "            node.next = headnode\n",
    "            headnode.prev = node\n",
    "            self.root.next = node \n",
    "        self.length +=1 \n",
    "                \n",
    "    def remove(self,node):\n",
    "        if node is self.root:\n",
    "            return\n",
    "        else:\n",
    "            node.prev.next = node.next\n",
    "            node.next.prev = node.prev\n",
    "        self.length -=1 \n",
    "        return node \n",
    "    \n",
    "    def iter_node(self):\n",
    "        if self.root.next is self.root:\n",
    "            return \n",
    "        curnode= self.root.next\n",
    "        while curnode.next is not self.root:\n",
    "            yield curnode \n",
    "            curnode = curnode.next\n",
    "        yield curnode \n",
    "    \n",
    "    def __iter__(self):\n",
    "        for node in self.iter_node():\n",
    "            yield node.value\n",
    "    def iter_node_reverse(self):\n",
    "        if self.root.prev is self.root:\n",
    "            return \n",
    "        curnode = self.root.prev\n",
    "        while curnode.prev is not self.root:\n",
    "            yield curnode \n",
    "            curnode = curnode.prev\n",
    "        yield curnode\n",
    "        \n",
    "        \n",
    "def test_double_link_list():\n",
    "    dll = CircularDoubleLinkedList()\n",
    "    assert len(dll) == 0\n",
    "    \n",
    "    dll.append(0)\n",
    "    dll.append(1)\n",
    "    dll.append(2)\n",
    "    \n",
    "    assert list(dll) == [0,1,2]\n",
    "    \n",
    "    assert [node.value for node in dll.iter_node()] == [0,1,2]\n",
    "    assert [node.value for node in dll.iter_node_reverse()] ==[2,1,0]\n",
    "\n",
    "    headnode = dll.headnode()\n",
    "    assert headnode.value == 0\n",
    "    dll.remove(headnode)\n",
    "    assert len(dll) == 2\n",
    "    assert [node.value for node in dll.iter_node()] == [1,2]\n",
    "    \n",
    "    dll.appendleft(0)\n",
    "    \n",
    "    assert [node.value for node in dll.iter_node()] == [0,1,2]\n",
    "    print('ok')\n",
    "if __name__ =='__main__':\n",
    "    test_double_link_list()\n",
    "        \n",
    "        "
   ]
  },
  {
   "cell_type": "code",
   "execution_count": 49,
   "metadata": {},
   "outputs": [
    {
     "ename": "SyntaxError",
     "evalue": "invalid syntax (<ipython-input-49-237a3568ca64>, line 10)",
     "output_type": "error",
     "traceback": [
      "\u001b[0;36m  File \u001b[0;32m\"<ipython-input-49-237a3568ca64>\"\u001b[0;36m, line \u001b[0;32m10\u001b[0m\n\u001b[0;31m    def\u001b[0m\n\u001b[0m        ^\u001b[0m\n\u001b[0;31mSyntaxError\u001b[0m\u001b[0;31m:\u001b[0m invalid syntax\n"
     ]
    }
   ],
   "source": [
    "# 双段队列\n",
    "def Deque(CircularDoubleLinkedList):\n",
    "    def pop(self):\n",
    "        if len(self) == 0:\n",
    "            return Exception('empty')\n",
    "        tailnode =self.headnode()\n",
    "        value = headnode.value\n",
    "        self.remove(headnode)\n",
    "    \n",
    "    def \n",
    "\n",
    "    \n",
    "# collections.deque\n",
    "\n"
   ]
  },
  {
   "cell_type": "code",
   "execution_count": 50,
   "metadata": {},
   "outputs": [
    {
     "ename": "SyntaxError",
     "evalue": "invalid character in identifier (<ipython-input-50-fa7cde4a42b2>, line 2)",
     "output_type": "error",
     "traceback": [
      "\u001b[0;36m  File \u001b[0;32m\"<ipython-input-50-fa7cde4a42b2>\"\u001b[0;36m, line \u001b[0;32m2\u001b[0m\n\u001b[0;31m    取模找槽：然后把值放入余数位置。 然后多处理来的数字放入余数槽后面。\u001b[0m\n\u001b[0m                   ^\u001b[0m\n\u001b[0;31mSyntaxError\u001b[0m\u001b[0;31m:\u001b[0m invalid character in identifier\n"
     ]
    }
   ],
   "source": [
    "## 哈希冲突解决方法\n",
    "取模找槽：然后把值放入余数位置。 然后多处理来的数字放入余数槽后面。\n",
    "\n",
    "\n",
    "\n"
   ]
  },
  {
   "cell_type": "code",
   "execution_count": 53,
   "metadata": {},
   "outputs": [
    {
     "name": "stdout",
     "output_type": "stream",
     "text": [
      "Move 1 -> 3\n",
      "Move 1 -> 2\n",
      "Move 3 -> 2\n",
      "Move 1 -> 3\n",
      "Move 2 -> 1\n",
      "Move 2 -> 3\n",
      "Move 1 -> 3\n",
      "Move 1 -> 2\n",
      "Move 3 -> 2\n",
      "Move 3 -> 1\n",
      "Move 2 -> 1\n",
      "Move 3 -> 2\n",
      "Move 1 -> 3\n",
      "Move 1 -> 2\n",
      "Move 3 -> 2\n"
     ]
    }
   ],
   "source": [
    "#集合 交并集要运算符重置\n",
    "\n",
    "# \n",
    "def hanoi_move(n, source, dest, intermediate):\n",
    "    if n >= 1:  # 递归出口，只剩一个盘子\n",
    "        hanoi_move(n-1, source, intermediate, dest)\n",
    "        print(\"Move %s -> %s\" % (source, dest))\n",
    "        hanoi_move(n-1, intermediate, dest, source)\n",
    "hanoi_move(4, '1', '2', '3')"
   ]
  },
  {
   "cell_type": "code",
   "execution_count": null,
   "metadata": {},
   "outputs": [],
   "source": []
  }
 ],
 "metadata": {
  "kernelspec": {
   "display_name": "Python 3",
   "language": "python",
   "name": "python3"
  },
  "language_info": {
   "codemirror_mode": {
    "name": "ipython",
    "version": 3
   },
   "file_extension": ".py",
   "mimetype": "text/x-python",
   "name": "python",
   "nbconvert_exporter": "python",
   "pygments_lexer": "ipython3",
   "version": "3.7.2"
  }
 },
 "nbformat": 4,
 "nbformat_minor": 2
}
